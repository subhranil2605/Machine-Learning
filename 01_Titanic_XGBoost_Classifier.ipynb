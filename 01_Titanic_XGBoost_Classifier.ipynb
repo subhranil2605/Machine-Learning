{
  "nbformat": 4,
  "nbformat_minor": 0,
  "metadata": {
    "colab": {
      "provenance": [],
      "collapsed_sections": []
    },
    "kernelspec": {
      "name": "python3",
      "display_name": "Python 3"
    },
    "language_info": {
      "name": "python"
    }
  },
  "cells": [
    {
      "cell_type": "code",
      "execution_count": 1,
      "metadata": {
        "id": "qRLVOPzVTYQp",
        "colab": {
          "base_uri": "https://localhost:8080/"
        },
        "outputId": "a9703443-e032-465d-8c87-4596289bc482"
      },
      "outputs": [
        {
          "output_type": "stream",
          "name": "stdout",
          "text": [
            "Looking in indexes: https://pypi.org/simple, https://us-python.pkg.dev/colab-wheels/public/simple/\n",
            "Requirement already satisfied: kaggle in /usr/local/lib/python3.7/dist-packages (1.5.12)\n",
            "Requirement already satisfied: six>=1.10 in /usr/local/lib/python3.7/dist-packages (from kaggle) (1.15.0)\n",
            "Requirement already satisfied: urllib3 in /usr/local/lib/python3.7/dist-packages (from kaggle) (1.24.3)\n",
            "Requirement already satisfied: python-dateutil in /usr/local/lib/python3.7/dist-packages (from kaggle) (2.8.2)\n",
            "Requirement already satisfied: python-slugify in /usr/local/lib/python3.7/dist-packages (from kaggle) (6.1.2)\n",
            "Requirement already satisfied: requests in /usr/local/lib/python3.7/dist-packages (from kaggle) (2.23.0)\n",
            "Requirement already satisfied: tqdm in /usr/local/lib/python3.7/dist-packages (from kaggle) (4.64.1)\n",
            "Requirement already satisfied: certifi in /usr/local/lib/python3.7/dist-packages (from kaggle) (2022.6.15)\n",
            "Requirement already satisfied: text-unidecode>=1.3 in /usr/local/lib/python3.7/dist-packages (from python-slugify->kaggle) (1.3)\n",
            "Requirement already satisfied: idna<3,>=2.5 in /usr/local/lib/python3.7/dist-packages (from requests->kaggle) (2.10)\n",
            "Requirement already satisfied: chardet<4,>=3.0.2 in /usr/local/lib/python3.7/dist-packages (from requests->kaggle) (3.0.4)\n"
          ]
        }
      ],
      "source": [
        "!pip install kaggle"
      ]
    },
    {
      "cell_type": "code",
      "source": [
        "!mkdir ~/.kaggle\n",
        "!cp kaggle.json ~/.kaggle/\n",
        "!chmod 600 ~/.kaggle/kaggle.json"
      ],
      "metadata": {
        "id": "yXrzopgvUuoi"
      },
      "execution_count": 2,
      "outputs": []
    },
    {
      "cell_type": "code",
      "source": [
        "!kaggle competitions download -c titanic"
      ],
      "metadata": {
        "colab": {
          "base_uri": "https://localhost:8080/"
        },
        "id": "XrQ-hsXBU7Od",
        "outputId": "908680ad-d28b-49db-fb22-be1893e4db00"
      },
      "execution_count": 4,
      "outputs": [
        {
          "output_type": "stream",
          "name": "stdout",
          "text": [
            "Downloading titanic.zip to /content\n",
            "\r  0% 0.00/34.1k [00:00<?, ?B/s]\n",
            "\r100% 34.1k/34.1k [00:00<00:00, 18.3MB/s]\n"
          ]
        }
      ]
    },
    {
      "cell_type": "code",
      "source": [
        "!unzip titanic.zip"
      ],
      "metadata": {
        "colab": {
          "base_uri": "https://localhost:8080/"
        },
        "id": "qKXSgeTBVJv1",
        "outputId": "17259da6-bd8e-40a9-b78a-d546ba514d89"
      },
      "execution_count": 5,
      "outputs": [
        {
          "output_type": "stream",
          "name": "stdout",
          "text": [
            "Archive:  titanic.zip\n",
            "  inflating: gender_submission.csv   \n",
            "  inflating: test.csv                \n",
            "  inflating: train.csv               \n"
          ]
        }
      ]
    },
    {
      "cell_type": "markdown",
      "source": [
        "# XGBoost Classifier"
      ],
      "metadata": {
        "id": "Z_xvdg9eWmZJ"
      }
    },
    {
      "cell_type": "code",
      "source": [
        "import numpy as np\n",
        "import pandas as pd\n",
        "import matplotlib.pyplot as plt\n",
        "import seaborn as sns\n",
        "from sklearn.preprocessing import OneHotEncoder\n",
        "from sklearn.model_selection import train_test_split\n",
        "from xgboost import XGBClassifier"
      ],
      "metadata": {
        "id": "ag-FLSEQXHs7"
      },
      "execution_count": 42,
      "outputs": []
    },
    {
      "cell_type": "markdown",
      "source": [
        "## Loading Dataset"
      ],
      "metadata": {
        "id": "JaQiNNSpXMGk"
      }
    },
    {
      "cell_type": "code",
      "source": [
        "train_path = \"/content/train.csv\"\n",
        "test_path = \"/content/test.csv\"\n",
        "gender_sub_path = \"/content/gender_submission.csv\""
      ],
      "metadata": {
        "id": "kVRhC1scVwkL"
      },
      "execution_count": 6,
      "outputs": []
    },
    {
      "cell_type": "code",
      "source": [
        "def load_dataset(filename: str):\n",
        "    return pd.read_csv(filename)"
      ],
      "metadata": {
        "id": "QdbWyHJwW-tD"
      },
      "execution_count": 8,
      "outputs": []
    },
    {
      "cell_type": "markdown",
      "source": [
        "### Loading training data"
      ],
      "metadata": {
        "id": "5khtYPc_XRmY"
      }
    },
    {
      "cell_type": "code",
      "source": [
        "train_df = load_dataset(train_path)\n",
        "\n",
        "train_df.head()"
      ],
      "metadata": {
        "colab": {
          "base_uri": "https://localhost:8080/",
          "height": 250
        },
        "id": "AolGbwEIXPEz",
        "outputId": "1bfc4054-6c0b-43c7-9df9-295b39e73522"
      },
      "execution_count": 9,
      "outputs": [
        {
          "output_type": "execute_result",
          "data": {
            "text/plain": [
              "   PassengerId  Survived  Pclass  \\\n",
              "0            1         0       3   \n",
              "1            2         1       1   \n",
              "2            3         1       3   \n",
              "3            4         1       1   \n",
              "4            5         0       3   \n",
              "\n",
              "                                                Name     Sex   Age  SibSp  \\\n",
              "0                            Braund, Mr. Owen Harris    male  22.0      1   \n",
              "1  Cumings, Mrs. John Bradley (Florence Briggs Th...  female  38.0      1   \n",
              "2                             Heikkinen, Miss. Laina  female  26.0      0   \n",
              "3       Futrelle, Mrs. Jacques Heath (Lily May Peel)  female  35.0      1   \n",
              "4                           Allen, Mr. William Henry    male  35.0      0   \n",
              "\n",
              "   Parch            Ticket     Fare Cabin Embarked  \n",
              "0      0         A/5 21171   7.2500   NaN        S  \n",
              "1      0          PC 17599  71.2833   C85        C  \n",
              "2      0  STON/O2. 3101282   7.9250   NaN        S  \n",
              "3      0            113803  53.1000  C123        S  \n",
              "4      0            373450   8.0500   NaN        S  "
            ],
            "text/html": [
              "\n",
              "  <div id=\"df-596807e6-9a28-4eb0-9ea9-2e2c07b12bdd\">\n",
              "    <div class=\"colab-df-container\">\n",
              "      <div>\n",
              "<style scoped>\n",
              "    .dataframe tbody tr th:only-of-type {\n",
              "        vertical-align: middle;\n",
              "    }\n",
              "\n",
              "    .dataframe tbody tr th {\n",
              "        vertical-align: top;\n",
              "    }\n",
              "\n",
              "    .dataframe thead th {\n",
              "        text-align: right;\n",
              "    }\n",
              "</style>\n",
              "<table border=\"1\" class=\"dataframe\">\n",
              "  <thead>\n",
              "    <tr style=\"text-align: right;\">\n",
              "      <th></th>\n",
              "      <th>PassengerId</th>\n",
              "      <th>Survived</th>\n",
              "      <th>Pclass</th>\n",
              "      <th>Name</th>\n",
              "      <th>Sex</th>\n",
              "      <th>Age</th>\n",
              "      <th>SibSp</th>\n",
              "      <th>Parch</th>\n",
              "      <th>Ticket</th>\n",
              "      <th>Fare</th>\n",
              "      <th>Cabin</th>\n",
              "      <th>Embarked</th>\n",
              "    </tr>\n",
              "  </thead>\n",
              "  <tbody>\n",
              "    <tr>\n",
              "      <th>0</th>\n",
              "      <td>1</td>\n",
              "      <td>0</td>\n",
              "      <td>3</td>\n",
              "      <td>Braund, Mr. Owen Harris</td>\n",
              "      <td>male</td>\n",
              "      <td>22.0</td>\n",
              "      <td>1</td>\n",
              "      <td>0</td>\n",
              "      <td>A/5 21171</td>\n",
              "      <td>7.2500</td>\n",
              "      <td>NaN</td>\n",
              "      <td>S</td>\n",
              "    </tr>\n",
              "    <tr>\n",
              "      <th>1</th>\n",
              "      <td>2</td>\n",
              "      <td>1</td>\n",
              "      <td>1</td>\n",
              "      <td>Cumings, Mrs. John Bradley (Florence Briggs Th...</td>\n",
              "      <td>female</td>\n",
              "      <td>38.0</td>\n",
              "      <td>1</td>\n",
              "      <td>0</td>\n",
              "      <td>PC 17599</td>\n",
              "      <td>71.2833</td>\n",
              "      <td>C85</td>\n",
              "      <td>C</td>\n",
              "    </tr>\n",
              "    <tr>\n",
              "      <th>2</th>\n",
              "      <td>3</td>\n",
              "      <td>1</td>\n",
              "      <td>3</td>\n",
              "      <td>Heikkinen, Miss. Laina</td>\n",
              "      <td>female</td>\n",
              "      <td>26.0</td>\n",
              "      <td>0</td>\n",
              "      <td>0</td>\n",
              "      <td>STON/O2. 3101282</td>\n",
              "      <td>7.9250</td>\n",
              "      <td>NaN</td>\n",
              "      <td>S</td>\n",
              "    </tr>\n",
              "    <tr>\n",
              "      <th>3</th>\n",
              "      <td>4</td>\n",
              "      <td>1</td>\n",
              "      <td>1</td>\n",
              "      <td>Futrelle, Mrs. Jacques Heath (Lily May Peel)</td>\n",
              "      <td>female</td>\n",
              "      <td>35.0</td>\n",
              "      <td>1</td>\n",
              "      <td>0</td>\n",
              "      <td>113803</td>\n",
              "      <td>53.1000</td>\n",
              "      <td>C123</td>\n",
              "      <td>S</td>\n",
              "    </tr>\n",
              "    <tr>\n",
              "      <th>4</th>\n",
              "      <td>5</td>\n",
              "      <td>0</td>\n",
              "      <td>3</td>\n",
              "      <td>Allen, Mr. William Henry</td>\n",
              "      <td>male</td>\n",
              "      <td>35.0</td>\n",
              "      <td>0</td>\n",
              "      <td>0</td>\n",
              "      <td>373450</td>\n",
              "      <td>8.0500</td>\n",
              "      <td>NaN</td>\n",
              "      <td>S</td>\n",
              "    </tr>\n",
              "  </tbody>\n",
              "</table>\n",
              "</div>\n",
              "      <button class=\"colab-df-convert\" onclick=\"convertToInteractive('df-596807e6-9a28-4eb0-9ea9-2e2c07b12bdd')\"\n",
              "              title=\"Convert this dataframe to an interactive table.\"\n",
              "              style=\"display:none;\">\n",
              "        \n",
              "  <svg xmlns=\"http://www.w3.org/2000/svg\" height=\"24px\"viewBox=\"0 0 24 24\"\n",
              "       width=\"24px\">\n",
              "    <path d=\"M0 0h24v24H0V0z\" fill=\"none\"/>\n",
              "    <path d=\"M18.56 5.44l.94 2.06.94-2.06 2.06-.94-2.06-.94-.94-2.06-.94 2.06-2.06.94zm-11 1L8.5 8.5l.94-2.06 2.06-.94-2.06-.94L8.5 2.5l-.94 2.06-2.06.94zm10 10l.94 2.06.94-2.06 2.06-.94-2.06-.94-.94-2.06-.94 2.06-2.06.94z\"/><path d=\"M17.41 7.96l-1.37-1.37c-.4-.4-.92-.59-1.43-.59-.52 0-1.04.2-1.43.59L10.3 9.45l-7.72 7.72c-.78.78-.78 2.05 0 2.83L4 21.41c.39.39.9.59 1.41.59.51 0 1.02-.2 1.41-.59l7.78-7.78 2.81-2.81c.8-.78.8-2.07 0-2.86zM5.41 20L4 18.59l7.72-7.72 1.47 1.35L5.41 20z\"/>\n",
              "  </svg>\n",
              "      </button>\n",
              "      \n",
              "  <style>\n",
              "    .colab-df-container {\n",
              "      display:flex;\n",
              "      flex-wrap:wrap;\n",
              "      gap: 12px;\n",
              "    }\n",
              "\n",
              "    .colab-df-convert {\n",
              "      background-color: #E8F0FE;\n",
              "      border: none;\n",
              "      border-radius: 50%;\n",
              "      cursor: pointer;\n",
              "      display: none;\n",
              "      fill: #1967D2;\n",
              "      height: 32px;\n",
              "      padding: 0 0 0 0;\n",
              "      width: 32px;\n",
              "    }\n",
              "\n",
              "    .colab-df-convert:hover {\n",
              "      background-color: #E2EBFA;\n",
              "      box-shadow: 0px 1px 2px rgba(60, 64, 67, 0.3), 0px 1px 3px 1px rgba(60, 64, 67, 0.15);\n",
              "      fill: #174EA6;\n",
              "    }\n",
              "\n",
              "    [theme=dark] .colab-df-convert {\n",
              "      background-color: #3B4455;\n",
              "      fill: #D2E3FC;\n",
              "    }\n",
              "\n",
              "    [theme=dark] .colab-df-convert:hover {\n",
              "      background-color: #434B5C;\n",
              "      box-shadow: 0px 1px 3px 1px rgba(0, 0, 0, 0.15);\n",
              "      filter: drop-shadow(0px 1px 2px rgba(0, 0, 0, 0.3));\n",
              "      fill: #FFFFFF;\n",
              "    }\n",
              "  </style>\n",
              "\n",
              "      <script>\n",
              "        const buttonEl =\n",
              "          document.querySelector('#df-596807e6-9a28-4eb0-9ea9-2e2c07b12bdd button.colab-df-convert');\n",
              "        buttonEl.style.display =\n",
              "          google.colab.kernel.accessAllowed ? 'block' : 'none';\n",
              "\n",
              "        async function convertToInteractive(key) {\n",
              "          const element = document.querySelector('#df-596807e6-9a28-4eb0-9ea9-2e2c07b12bdd');\n",
              "          const dataTable =\n",
              "            await google.colab.kernel.invokeFunction('convertToInteractive',\n",
              "                                                     [key], {});\n",
              "          if (!dataTable) return;\n",
              "\n",
              "          const docLinkHtml = 'Like what you see? Visit the ' +\n",
              "            '<a target=\"_blank\" href=https://colab.research.google.com/notebooks/data_table.ipynb>data table notebook</a>'\n",
              "            + ' to learn more about interactive tables.';\n",
              "          element.innerHTML = '';\n",
              "          dataTable['output_type'] = 'display_data';\n",
              "          await google.colab.output.renderOutput(dataTable, element);\n",
              "          const docLink = document.createElement('div');\n",
              "          docLink.innerHTML = docLinkHtml;\n",
              "          element.appendChild(docLink);\n",
              "        }\n",
              "      </script>\n",
              "    </div>\n",
              "  </div>\n",
              "  "
            ]
          },
          "metadata": {},
          "execution_count": 9
        }
      ]
    },
    {
      "cell_type": "code",
      "source": [
        "train_df.info()"
      ],
      "metadata": {
        "colab": {
          "base_uri": "https://localhost:8080/"
        },
        "id": "kX3csrYIXYjs",
        "outputId": "68454891-d597-4602-fb8a-14542fa35009"
      },
      "execution_count": 10,
      "outputs": [
        {
          "output_type": "stream",
          "name": "stdout",
          "text": [
            "<class 'pandas.core.frame.DataFrame'>\n",
            "RangeIndex: 891 entries, 0 to 890\n",
            "Data columns (total 12 columns):\n",
            " #   Column       Non-Null Count  Dtype  \n",
            "---  ------       --------------  -----  \n",
            " 0   PassengerId  891 non-null    int64  \n",
            " 1   Survived     891 non-null    int64  \n",
            " 2   Pclass       891 non-null    int64  \n",
            " 3   Name         891 non-null    object \n",
            " 4   Sex          891 non-null    object \n",
            " 5   Age          714 non-null    float64\n",
            " 6   SibSp        891 non-null    int64  \n",
            " 7   Parch        891 non-null    int64  \n",
            " 8   Ticket       891 non-null    object \n",
            " 9   Fare         891 non-null    float64\n",
            " 10  Cabin        204 non-null    object \n",
            " 11  Embarked     889 non-null    object \n",
            "dtypes: float64(2), int64(5), object(5)\n",
            "memory usage: 83.7+ KB\n"
          ]
        }
      ]
    },
    {
      "cell_type": "code",
      "source": [
        "train_df.isna().sum()"
      ],
      "metadata": {
        "colab": {
          "base_uri": "https://localhost:8080/"
        },
        "id": "_WXd08hHXezv",
        "outputId": "17358988-a64e-4674-813c-548188987ac6"
      },
      "execution_count": 12,
      "outputs": [
        {
          "output_type": "execute_result",
          "data": {
            "text/plain": [
              "PassengerId      0\n",
              "Survived         0\n",
              "Pclass           0\n",
              "Name             0\n",
              "Sex              0\n",
              "Age            177\n",
              "SibSp            0\n",
              "Parch            0\n",
              "Ticket           0\n",
              "Fare             0\n",
              "Cabin          687\n",
              "Embarked         2\n",
              "dtype: int64"
            ]
          },
          "metadata": {},
          "execution_count": 12
        }
      ]
    },
    {
      "cell_type": "markdown",
      "source": [
        "## Deleting unnecessary columns using class"
      ],
      "metadata": {
        "id": "8KDOF8VlXn-B"
      }
    },
    {
      "cell_type": "markdown",
      "source": [
        "### checking columns whicha have more than 50% null values"
      ],
      "metadata": {
        "id": "0sVka5nuXxU1"
      }
    },
    {
      "cell_type": "code",
      "source": [
        "def colfinder(dataframe, min_ratio=0.5):\n",
        "    filter = (dataframe.isnull().sum() / dataframe.shape[0]) > min_ratio\n",
        "    return list(dataframe.columns[filter])"
      ],
      "metadata": {
        "id": "_dtmknG0Xjb-"
      },
      "execution_count": 13,
      "outputs": []
    },
    {
      "cell_type": "markdown",
      "source": [
        "### There are some columns in the dataset, which would not be useful for training the machine learning algorithm."
      ],
      "metadata": {
        "id": "X6fRavS3Yi_s"
      }
    },
    {
      "cell_type": "code",
      "source": [
        "col_not_helpful = ['Name', 'Ticket', 'PassengerId'] + colfinder(train_df)\n",
        "\n",
        "col_not_helpful"
      ],
      "metadata": {
        "colab": {
          "base_uri": "https://localhost:8080/"
        },
        "id": "Xuo-kDLEYfv5",
        "outputId": "faaed164-3012-46da-dc28-309f75461d8b"
      },
      "execution_count": 14,
      "outputs": [
        {
          "output_type": "execute_result",
          "data": {
            "text/plain": [
              "['Name', 'Ticket', 'PassengerId', 'Cabin']"
            ]
          },
          "metadata": {},
          "execution_count": 14
        }
      ]
    },
    {
      "cell_type": "markdown",
      "source": [
        "## Delete list of columns from dataframe"
      ],
      "metadata": {
        "id": "AJyPPOZuZR2D"
      }
    },
    {
      "cell_type": "code",
      "source": [
        "def delete_columns(dataframe, lst):\n",
        "    return dataframe.drop(lst, axis=1)"
      ],
      "metadata": {
        "id": "PKAHYt57ZDWe"
      },
      "execution_count": 15,
      "outputs": []
    },
    {
      "cell_type": "code",
      "source": [
        "train_df1 = delete_columns(train_df, col_not_helpful)\n",
        "\n",
        "train_df1.head()"
      ],
      "metadata": {
        "colab": {
          "base_uri": "https://localhost:8080/",
          "height": 206
        },
        "id": "qoEu8EMhZm8R",
        "outputId": "6faece40-8729-46e6-c7bc-92c286828dbc"
      },
      "execution_count": 16,
      "outputs": [
        {
          "output_type": "execute_result",
          "data": {
            "text/plain": [
              "   Survived  Pclass     Sex   Age  SibSp  Parch     Fare Embarked\n",
              "0         0       3    male  22.0      1      0   7.2500        S\n",
              "1         1       1  female  38.0      1      0  71.2833        C\n",
              "2         1       3  female  26.0      0      0   7.9250        S\n",
              "3         1       1  female  35.0      1      0  53.1000        S\n",
              "4         0       3    male  35.0      0      0   8.0500        S"
            ],
            "text/html": [
              "\n",
              "  <div id=\"df-4821c8fa-2280-486e-a225-45453ea661c1\">\n",
              "    <div class=\"colab-df-container\">\n",
              "      <div>\n",
              "<style scoped>\n",
              "    .dataframe tbody tr th:only-of-type {\n",
              "        vertical-align: middle;\n",
              "    }\n",
              "\n",
              "    .dataframe tbody tr th {\n",
              "        vertical-align: top;\n",
              "    }\n",
              "\n",
              "    .dataframe thead th {\n",
              "        text-align: right;\n",
              "    }\n",
              "</style>\n",
              "<table border=\"1\" class=\"dataframe\">\n",
              "  <thead>\n",
              "    <tr style=\"text-align: right;\">\n",
              "      <th></th>\n",
              "      <th>Survived</th>\n",
              "      <th>Pclass</th>\n",
              "      <th>Sex</th>\n",
              "      <th>Age</th>\n",
              "      <th>SibSp</th>\n",
              "      <th>Parch</th>\n",
              "      <th>Fare</th>\n",
              "      <th>Embarked</th>\n",
              "    </tr>\n",
              "  </thead>\n",
              "  <tbody>\n",
              "    <tr>\n",
              "      <th>0</th>\n",
              "      <td>0</td>\n",
              "      <td>3</td>\n",
              "      <td>male</td>\n",
              "      <td>22.0</td>\n",
              "      <td>1</td>\n",
              "      <td>0</td>\n",
              "      <td>7.2500</td>\n",
              "      <td>S</td>\n",
              "    </tr>\n",
              "    <tr>\n",
              "      <th>1</th>\n",
              "      <td>1</td>\n",
              "      <td>1</td>\n",
              "      <td>female</td>\n",
              "      <td>38.0</td>\n",
              "      <td>1</td>\n",
              "      <td>0</td>\n",
              "      <td>71.2833</td>\n",
              "      <td>C</td>\n",
              "    </tr>\n",
              "    <tr>\n",
              "      <th>2</th>\n",
              "      <td>1</td>\n",
              "      <td>3</td>\n",
              "      <td>female</td>\n",
              "      <td>26.0</td>\n",
              "      <td>0</td>\n",
              "      <td>0</td>\n",
              "      <td>7.9250</td>\n",
              "      <td>S</td>\n",
              "    </tr>\n",
              "    <tr>\n",
              "      <th>3</th>\n",
              "      <td>1</td>\n",
              "      <td>1</td>\n",
              "      <td>female</td>\n",
              "      <td>35.0</td>\n",
              "      <td>1</td>\n",
              "      <td>0</td>\n",
              "      <td>53.1000</td>\n",
              "      <td>S</td>\n",
              "    </tr>\n",
              "    <tr>\n",
              "      <th>4</th>\n",
              "      <td>0</td>\n",
              "      <td>3</td>\n",
              "      <td>male</td>\n",
              "      <td>35.0</td>\n",
              "      <td>0</td>\n",
              "      <td>0</td>\n",
              "      <td>8.0500</td>\n",
              "      <td>S</td>\n",
              "    </tr>\n",
              "  </tbody>\n",
              "</table>\n",
              "</div>\n",
              "      <button class=\"colab-df-convert\" onclick=\"convertToInteractive('df-4821c8fa-2280-486e-a225-45453ea661c1')\"\n",
              "              title=\"Convert this dataframe to an interactive table.\"\n",
              "              style=\"display:none;\">\n",
              "        \n",
              "  <svg xmlns=\"http://www.w3.org/2000/svg\" height=\"24px\"viewBox=\"0 0 24 24\"\n",
              "       width=\"24px\">\n",
              "    <path d=\"M0 0h24v24H0V0z\" fill=\"none\"/>\n",
              "    <path d=\"M18.56 5.44l.94 2.06.94-2.06 2.06-.94-2.06-.94-.94-2.06-.94 2.06-2.06.94zm-11 1L8.5 8.5l.94-2.06 2.06-.94-2.06-.94L8.5 2.5l-.94 2.06-2.06.94zm10 10l.94 2.06.94-2.06 2.06-.94-2.06-.94-.94-2.06-.94 2.06-2.06.94z\"/><path d=\"M17.41 7.96l-1.37-1.37c-.4-.4-.92-.59-1.43-.59-.52 0-1.04.2-1.43.59L10.3 9.45l-7.72 7.72c-.78.78-.78 2.05 0 2.83L4 21.41c.39.39.9.59 1.41.59.51 0 1.02-.2 1.41-.59l7.78-7.78 2.81-2.81c.8-.78.8-2.07 0-2.86zM5.41 20L4 18.59l7.72-7.72 1.47 1.35L5.41 20z\"/>\n",
              "  </svg>\n",
              "      </button>\n",
              "      \n",
              "  <style>\n",
              "    .colab-df-container {\n",
              "      display:flex;\n",
              "      flex-wrap:wrap;\n",
              "      gap: 12px;\n",
              "    }\n",
              "\n",
              "    .colab-df-convert {\n",
              "      background-color: #E8F0FE;\n",
              "      border: none;\n",
              "      border-radius: 50%;\n",
              "      cursor: pointer;\n",
              "      display: none;\n",
              "      fill: #1967D2;\n",
              "      height: 32px;\n",
              "      padding: 0 0 0 0;\n",
              "      width: 32px;\n",
              "    }\n",
              "\n",
              "    .colab-df-convert:hover {\n",
              "      background-color: #E2EBFA;\n",
              "      box-shadow: 0px 1px 2px rgba(60, 64, 67, 0.3), 0px 1px 3px 1px rgba(60, 64, 67, 0.15);\n",
              "      fill: #174EA6;\n",
              "    }\n",
              "\n",
              "    [theme=dark] .colab-df-convert {\n",
              "      background-color: #3B4455;\n",
              "      fill: #D2E3FC;\n",
              "    }\n",
              "\n",
              "    [theme=dark] .colab-df-convert:hover {\n",
              "      background-color: #434B5C;\n",
              "      box-shadow: 0px 1px 3px 1px rgba(0, 0, 0, 0.15);\n",
              "      filter: drop-shadow(0px 1px 2px rgba(0, 0, 0, 0.3));\n",
              "      fill: #FFFFFF;\n",
              "    }\n",
              "  </style>\n",
              "\n",
              "      <script>\n",
              "        const buttonEl =\n",
              "          document.querySelector('#df-4821c8fa-2280-486e-a225-45453ea661c1 button.colab-df-convert');\n",
              "        buttonEl.style.display =\n",
              "          google.colab.kernel.accessAllowed ? 'block' : 'none';\n",
              "\n",
              "        async function convertToInteractive(key) {\n",
              "          const element = document.querySelector('#df-4821c8fa-2280-486e-a225-45453ea661c1');\n",
              "          const dataTable =\n",
              "            await google.colab.kernel.invokeFunction('convertToInteractive',\n",
              "                                                     [key], {});\n",
              "          if (!dataTable) return;\n",
              "\n",
              "          const docLinkHtml = 'Like what you see? Visit the ' +\n",
              "            '<a target=\"_blank\" href=https://colab.research.google.com/notebooks/data_table.ipynb>data table notebook</a>'\n",
              "            + ' to learn more about interactive tables.';\n",
              "          element.innerHTML = '';\n",
              "          dataTable['output_type'] = 'display_data';\n",
              "          await google.colab.output.renderOutput(dataTable, element);\n",
              "          const docLink = document.createElement('div');\n",
              "          docLink.innerHTML = docLinkHtml;\n",
              "          element.appendChild(docLink);\n",
              "        }\n",
              "      </script>\n",
              "    </div>\n",
              "  </div>\n",
              "  "
            ]
          },
          "metadata": {},
          "execution_count": 16
        }
      ]
    },
    {
      "cell_type": "markdown",
      "source": [
        "### Visualizing the data"
      ],
      "metadata": {
        "id": "chHLfjU7Z5OJ"
      }
    },
    {
      "cell_type": "code",
      "source": [
        "num_df = train_df1.select_dtypes(include=\"number\")\n",
        "cat_df = train_df1.select_dtypes(include=\"object\")\n",
        "\n",
        "num_attributes = num_df.columns\n",
        "cat_attributes = cat_df.columns\n",
        "\n",
        "num_attributes, cat_attributes"
      ],
      "metadata": {
        "colab": {
          "base_uri": "https://localhost:8080/"
        },
        "id": "OBHQDFVlZ1YJ",
        "outputId": "746b9de4-8e0a-4c2d-c1ad-9a1fb4d36863"
      },
      "execution_count": 20,
      "outputs": [
        {
          "output_type": "execute_result",
          "data": {
            "text/plain": [
              "(Index(['Survived', 'Pclass', 'Age', 'SibSp', 'Parch', 'Fare'], dtype='object'),\n",
              " Index(['Sex', 'Embarked'], dtype='object'))"
            ]
          },
          "metadata": {},
          "execution_count": 20
        }
      ]
    },
    {
      "cell_type": "code",
      "source": [
        "plt.figure(figsize=(14, 4))\n",
        "for col in num_df:\n",
        "    sns.boxplot(x=col, data=num_df)\n",
        "    plt.show()"
      ],
      "metadata": {
        "colab": {
          "base_uri": "https://localhost:8080/",
          "height": 1000
        },
        "id": "r6Toqt5fafH9",
        "outputId": "798db683-17bf-45f7-9d99-c5b4e18c2df7"
      },
      "execution_count": 21,
      "outputs": [
        {
          "output_type": "display_data",
          "data": {
            "text/plain": [
              "<Figure size 1008x288 with 1 Axes>"
            ],
            "image/png": "[encoded data removed]"
          },
          "metadata": {
            "needs_background": "light"
          }
        },
        {
          "output_type": "display_data",
          "data": {
            "text/plain": [
              "<Figure size 432x288 with 1 Axes>"
            ],
            "image/png": "[encoded data removed]"
          },
          "metadata": {
            "needs_background": "light"
          }
        },
        {
          "output_type": "display_data",
          "data": {
            "text/plain": [
              "<Figure size 432x288 with 1 Axes>"
            ],
            "image/png": "[encoded data removed]"
          },
          "metadata": {
            "needs_background": "light"
          }
        },
        {
          "output_type": "display_data",
          "data": {
            "text/plain": [
              "<Figure size 432x288 with 1 Axes>"
            ],
            "image/png": "[encoded data removed]"
          },
          "metadata": {
            "needs_background": "light"
          }
        },
        {
          "output_type": "display_data",
          "data": {
            "text/plain": [
              "<Figure size 432x288 with 1 Axes>"
            ],
            "image/png": "[encoded data removed]"
          },
          "metadata": {
            "needs_background": "light"
          }
        },
        {
          "output_type": "display_data",
          "data": {
            "text/plain": [
              "<Figure size 432x288 with 1 Axes>"
            ],
            "image/png": "[encoded data removed]"
          },
          "metadata": {
            "needs_background": "light"
          }
        }
      ]
    },
    {
      "cell_type": "code",
      "source": [
        "sns.catplot(x='Sex', y='Survived', data=train_df1, kind='bar', hue='Pclass')"
      ],
      "metadata": {
        "colab": {
          "base_uri": "https://localhost:8080/",
          "height": 387
        },
        "id": "eOh5SXSTawA_",
        "outputId": "6d1f40f6-1f26-402a-aff6-9b60f1cd8fe2"
      },
      "execution_count": 22,
      "outputs": [
        {
          "output_type": "execute_result",
          "data": {
            "text/plain": [
              "<seaborn.axisgrid.FacetGrid at 0x7feb52219ed0>"
            ]
          },
          "metadata": {},
          "execution_count": 22
        },
        {
          "output_type": "display_data",
          "data": {
            "text/plain": [
              "<Figure size 402.375x360 with 1 Axes>"
            ],
            "image/png": "[encoded data removed]"
          },
          "metadata": {
            "needs_background": "light"
          }
        }
      ]
    },
    {
      "cell_type": "markdown",
      "source": [
        "From the boxplot of age and fare, it can be said that age and fare has outliers."
      ],
      "metadata": {
        "id": "9P3NUb4XbNBH"
      }
    },
    {
      "cell_type": "code",
      "source": [
        "print(f\"The skewness of the age column of the titanic dataset is: {train_df1['Age'].skew()}\")\n",
        "print(f\"The skewness of the fare column of the titanic dataset is: {train_df1['Fare'].skew()}\")"
      ],
      "metadata": {
        "colab": {
          "base_uri": "https://localhost:8080/"
        },
        "id": "iZnhZnmBa_zJ",
        "outputId": "b256cd8b-2c3c-4e88-dd2c-9471534459b9"
      },
      "execution_count": 23,
      "outputs": [
        {
          "output_type": "stream",
          "name": "stdout",
          "text": [
            "The skewness of the age column of the titanic dataset is: 0.38910778230082704\n",
            "The skewness of the fare column of the titanic dataset is: 4.787316519674893\n"
          ]
        }
      ]
    },
    {
      "cell_type": "markdown",
      "source": [
        "As the skewness of the fare column is not within range -1 to +1. We would remove all the outliers from it."
      ],
      "metadata": {
        "id": "naIywlLWbim3"
      }
    },
    {
      "cell_type": "code",
      "source": [
        "sns.pairplot(data=num_df, diag_kind='kde')"
      ],
      "metadata": {
        "colab": {
          "base_uri": "https://localhost:8080/",
          "height": 1000
        },
        "id": "GELBWE9IbcLa",
        "outputId": "3a355285-1dd3-4687-94ba-c5dcadf926f3"
      },
      "execution_count": 25,
      "outputs": [
        {
          "output_type": "execute_result",
          "data": {
            "text/plain": [
              "<seaborn.axisgrid.PairGrid at 0x7feb50df7910>"
            ]
          },
          "metadata": {},
          "execution_count": 25
        },
        {
          "output_type": "display_data",
          "data": {
            "text/plain": [
              "<Figure size 1080x1080 with 42 Axes>"
            ],
            "image/png": "[encoded data removed]"
          },
          "metadata": {
            "needs_background": "light"
          }
        }
      ]
    },
    {
      "cell_type": "markdown",
      "source": [
        "## Filling missing values of numerical attributes by median and categorical variables by mode."
      ],
      "metadata": {
        "id": "nNxeHctocICR"
      }
    },
    {
      "cell_type": "code",
      "source": [
        "def filling_missing_values(X):\n",
        "    num_attributes = X.select_dtypes(include=\"number\").columns\n",
        "    cat_attributes = X.select_dtypes(include=\"object\").columns\n",
        "\n",
        "    [X[num_col].fillna(X[num_col].median(), inplace=True) for num_col in num_attributes]\n",
        "    [X[cat_col].fillna(X[cat_col].mode()[0], inplace=True) for cat_col in cat_attributes]"
      ],
      "metadata": {
        "id": "DUQTSty4b1Th"
      },
      "execution_count": 26,
      "outputs": []
    },
    {
      "cell_type": "code",
      "source": [
        "filling_missing_values(train_df1)\n",
        "\n",
        "train_df1.isna().sum()"
      ],
      "metadata": {
        "colab": {
          "base_uri": "https://localhost:8080/"
        },
        "id": "TuomOC92c_2o",
        "outputId": "37da9516-c511-4b88-ca1e-60c5c0d0b3ba"
      },
      "execution_count": 27,
      "outputs": [
        {
          "output_type": "execute_result",
          "data": {
            "text/plain": [
              "Survived    0\n",
              "Pclass      0\n",
              "Sex         0\n",
              "Age         0\n",
              "SibSp       0\n",
              "Parch       0\n",
              "Fare        0\n",
              "Embarked    0\n",
              "dtype: int64"
            ]
          },
          "metadata": {},
          "execution_count": 27
        }
      ]
    },
    {
      "cell_type": "markdown",
      "source": [
        "## Outlier removing of fair and age using IQR"
      ],
      "metadata": {
        "id": "ron_WpLndp5i"
      }
    },
    {
      "cell_type": "code",
      "source": [
        "def outlier_removal(X, col_name, whisker=1.5):\n",
        "    \"\"\"\n",
        "    This function takes dataframe, column names, whisker length and\n",
        "    returns a dataframe with all rows removed having outliers in that\n",
        "    particular column\n",
        "    \"\"\"\n",
        "    Q1 = X[col_name].quantile(0.25)\n",
        "    Q3 = X[col_name].quantile(0.75)\n",
        "    IQR = Q3 - Q1\n",
        "    filter = (X[col_name] < Q1 - whisker * IQR) | (X[col_name] > Q3 + whisker * IQR)\n",
        "    index = X[filter].index\n",
        "    return X.drop(index)"
      ],
      "metadata": {
        "id": "oWAT2Y_BdlbO"
      },
      "execution_count": 28,
      "outputs": []
    },
    {
      "cell_type": "code",
      "source": [
        "train_df_outlier_removed = outlier_removal(train_df1, 'Fare', 2.2)\n",
        "\n",
        "print('The percentage of data removed from the data frame as a consequence \\\n",
        "of outlier removal is ',\\\n",
        "      round((train_df1.shape[0]-train_df_outlier_removed.shape[0])/train_df1.shape[0]*100,2))\n",
        "print('If you think that the percentage of data removal is more, \\\n",
        "the whiskers length given in the function call can be increased ')"
      ],
      "metadata": {
        "colab": {
          "base_uri": "https://localhost:8080/"
        },
        "id": "2HLjbjXNeuvw",
        "outputId": "1779adc1-5184-42c6-d3fc-78652a690a25"
      },
      "execution_count": 29,
      "outputs": [
        {
          "output_type": "stream",
          "name": "stdout",
          "text": [
            "The percentage of data removed from the data frame as a consequence of outlier removal is  8.31\n",
            "If you think that the percentage of data removal is more, the whiskers length given in the function call can be increased \n"
          ]
        }
      ]
    },
    {
      "cell_type": "code",
      "source": [
        "X = train_df_outlier_removed.drop('Survived', axis=1).reset_index(drop=True)\n",
        "y = train_df_outlier_removed['Survived'].reset_index(drop=True)"
      ],
      "metadata": {
        "id": "DaUWDu_efHHr"
      },
      "execution_count": 30,
      "outputs": []
    },
    {
      "cell_type": "markdown",
      "source": [
        "## Applying onehot encoder to categorical variable"
      ],
      "metadata": {
        "id": "z-K4kvsKfamc"
      }
    },
    {
      "cell_type": "code",
      "source": [
        "ohc = OneHotEncoder()\n",
        "\n",
        "X = X.join(pd.DataFrame(ohc.fit_transform(X[cat_attributes]).toarray()))"
      ],
      "metadata": {
        "id": "eVGd4ZgWfZK9"
      },
      "execution_count": 32,
      "outputs": []
    },
    {
      "cell_type": "code",
      "source": [
        "X.head()"
      ],
      "metadata": {
        "colab": {
          "base_uri": "https://localhost:8080/",
          "height": 206
        },
        "id": "arAIczhTgCli",
        "outputId": "4c00447a-c6a8-4958-c21c-f2a5cf585fd5"
      },
      "execution_count": 33,
      "outputs": [
        {
          "output_type": "execute_result",
          "data": {
            "text/plain": [
              "   Pclass     Sex   Age  SibSp  Parch     Fare Embarked    0    1    2    3  \\\n",
              "0       3    male  22.0      1      0   7.2500        S  0.0  1.0  0.0  0.0   \n",
              "1       1  female  38.0      1      0  71.2833        C  1.0  0.0  1.0  0.0   \n",
              "2       3  female  26.0      0      0   7.9250        S  1.0  0.0  0.0  0.0   \n",
              "3       1  female  35.0      1      0  53.1000        S  1.0  0.0  0.0  0.0   \n",
              "4       3    male  35.0      0      0   8.0500        S  0.0  1.0  0.0  0.0   \n",
              "\n",
              "     4  \n",
              "0  1.0  \n",
              "1  0.0  \n",
              "2  1.0  \n",
              "3  1.0  \n",
              "4  1.0  "
            ],
            "text/html": [
              "\n",
              "  <div id=\"df-8d3dfd90-7d85-4856-97ae-041bf88f981d\">\n",
              "    <div class=\"colab-df-container\">\n",
              "      <div>\n",
              "<style scoped>\n",
              "    .dataframe tbody tr th:only-of-type {\n",
              "        vertical-align: middle;\n",
              "    }\n",
              "\n",
              "    .dataframe tbody tr th {\n",
              "        vertical-align: top;\n",
              "    }\n",
              "\n",
              "    .dataframe thead th {\n",
              "        text-align: right;\n",
              "    }\n",
              "</style>\n",
              "<table border=\"1\" class=\"dataframe\">\n",
              "  <thead>\n",
              "    <tr style=\"text-align: right;\">\n",
              "      <th></th>\n",
              "      <th>Pclass</th>\n",
              "      <th>Sex</th>\n",
              "      <th>Age</th>\n",
              "      <th>SibSp</th>\n",
              "      <th>Parch</th>\n",
              "      <th>Fare</th>\n",
              "      <th>Embarked</th>\n",
              "      <th>0</th>\n",
              "      <th>1</th>\n",
              "      <th>2</th>\n",
              "      <th>3</th>\n",
              "      <th>4</th>\n",
              "    </tr>\n",
              "  </thead>\n",
              "  <tbody>\n",
              "    <tr>\n",
              "      <th>0</th>\n",
              "      <td>3</td>\n",
              "      <td>male</td>\n",
              "      <td>22.0</td>\n",
              "      <td>1</td>\n",
              "      <td>0</td>\n",
              "      <td>7.2500</td>\n",
              "      <td>S</td>\n",
              "      <td>0.0</td>\n",
              "      <td>1.0</td>\n",
              "      <td>0.0</td>\n",
              "      <td>0.0</td>\n",
              "      <td>1.0</td>\n",
              "    </tr>\n",
              "    <tr>\n",
              "      <th>1</th>\n",
              "      <td>1</td>\n",
              "      <td>female</td>\n",
              "      <td>38.0</td>\n",
              "      <td>1</td>\n",
              "      <td>0</td>\n",
              "      <td>71.2833</td>\n",
              "      <td>C</td>\n",
              "      <td>1.0</td>\n",
              "      <td>0.0</td>\n",
              "      <td>1.0</td>\n",
              "      <td>0.0</td>\n",
              "      <td>0.0</td>\n",
              "    </tr>\n",
              "    <tr>\n",
              "      <th>2</th>\n",
              "      <td>3</td>\n",
              "      <td>female</td>\n",
              "      <td>26.0</td>\n",
              "      <td>0</td>\n",
              "      <td>0</td>\n",
              "      <td>7.9250</td>\n",
              "      <td>S</td>\n",
              "      <td>1.0</td>\n",
              "      <td>0.0</td>\n",
              "      <td>0.0</td>\n",
              "      <td>0.0</td>\n",
              "      <td>1.0</td>\n",
              "    </tr>\n",
              "    <tr>\n",
              "      <th>3</th>\n",
              "      <td>1</td>\n",
              "      <td>female</td>\n",
              "      <td>35.0</td>\n",
              "      <td>1</td>\n",
              "      <td>0</td>\n",
              "      <td>53.1000</td>\n",
              "      <td>S</td>\n",
              "      <td>1.0</td>\n",
              "      <td>0.0</td>\n",
              "      <td>0.0</td>\n",
              "      <td>0.0</td>\n",
              "      <td>1.0</td>\n",
              "    </tr>\n",
              "    <tr>\n",
              "      <th>4</th>\n",
              "      <td>3</td>\n",
              "      <td>male</td>\n",
              "      <td>35.0</td>\n",
              "      <td>0</td>\n",
              "      <td>0</td>\n",
              "      <td>8.0500</td>\n",
              "      <td>S</td>\n",
              "      <td>0.0</td>\n",
              "      <td>1.0</td>\n",
              "      <td>0.0</td>\n",
              "      <td>0.0</td>\n",
              "      <td>1.0</td>\n",
              "    </tr>\n",
              "  </tbody>\n",
              "</table>\n",
              "</div>\n",
              "      <button class=\"colab-df-convert\" onclick=\"convertToInteractive('df-8d3dfd90-7d85-4856-97ae-041bf88f981d')\"\n",
              "              title=\"Convert this dataframe to an interactive table.\"\n",
              "              style=\"display:none;\">\n",
              "        \n",
              "  <svg xmlns=\"http://www.w3.org/2000/svg\" height=\"24px\"viewBox=\"0 0 24 24\"\n",
              "       width=\"24px\">\n",
              "    <path d=\"M0 0h24v24H0V0z\" fill=\"none\"/>\n",
              "    <path d=\"M18.56 5.44l.94 2.06.94-2.06 2.06-.94-2.06-.94-.94-2.06-.94 2.06-2.06.94zm-11 1L8.5 8.5l.94-2.06 2.06-.94-2.06-.94L8.5 2.5l-.94 2.06-2.06.94zm10 10l.94 2.06.94-2.06 2.06-.94-2.06-.94-.94-2.06-.94 2.06-2.06.94z\"/><path d=\"M17.41 7.96l-1.37-1.37c-.4-.4-.92-.59-1.43-.59-.52 0-1.04.2-1.43.59L10.3 9.45l-7.72 7.72c-.78.78-.78 2.05 0 2.83L4 21.41c.39.39.9.59 1.41.59.51 0 1.02-.2 1.41-.59l7.78-7.78 2.81-2.81c.8-.78.8-2.07 0-2.86zM5.41 20L4 18.59l7.72-7.72 1.47 1.35L5.41 20z\"/>\n",
              "  </svg>\n",
              "      </button>\n",
              "      \n",
              "  <style>\n",
              "    .colab-df-container {\n",
              "      display:flex;\n",
              "      flex-wrap:wrap;\n",
              "      gap: 12px;\n",
              "    }\n",
              "\n",
              "    .colab-df-convert {\n",
              "      background-color: #E8F0FE;\n",
              "      border: none;\n",
              "      border-radius: 50%;\n",
              "      cursor: pointer;\n",
              "      display: none;\n",
              "      fill: #1967D2;\n",
              "      height: 32px;\n",
              "      padding: 0 0 0 0;\n",
              "      width: 32px;\n",
              "    }\n",
              "\n",
              "    .colab-df-convert:hover {\n",
              "      background-color: #E2EBFA;\n",
              "      box-shadow: 0px 1px 2px rgba(60, 64, 67, 0.3), 0px 1px 3px 1px rgba(60, 64, 67, 0.15);\n",
              "      fill: #174EA6;\n",
              "    }\n",
              "\n",
              "    [theme=dark] .colab-df-convert {\n",
              "      background-color: #3B4455;\n",
              "      fill: #D2E3FC;\n",
              "    }\n",
              "\n",
              "    [theme=dark] .colab-df-convert:hover {\n",
              "      background-color: #434B5C;\n",
              "      box-shadow: 0px 1px 3px 1px rgba(0, 0, 0, 0.15);\n",
              "      filter: drop-shadow(0px 1px 2px rgba(0, 0, 0, 0.3));\n",
              "      fill: #FFFFFF;\n",
              "    }\n",
              "  </style>\n",
              "\n",
              "      <script>\n",
              "        const buttonEl =\n",
              "          document.querySelector('#df-8d3dfd90-7d85-4856-97ae-041bf88f981d button.colab-df-convert');\n",
              "        buttonEl.style.display =\n",
              "          google.colab.kernel.accessAllowed ? 'block' : 'none';\n",
              "\n",
              "        async function convertToInteractive(key) {\n",
              "          const element = document.querySelector('#df-8d3dfd90-7d85-4856-97ae-041bf88f981d');\n",
              "          const dataTable =\n",
              "            await google.colab.kernel.invokeFunction('convertToInteractive',\n",
              "                                                     [key], {});\n",
              "          if (!dataTable) return;\n",
              "\n",
              "          const docLinkHtml = 'Like what you see? Visit the ' +\n",
              "            '<a target=\"_blank\" href=https://colab.research.google.com/notebooks/data_table.ipynb>data table notebook</a>'\n",
              "            + ' to learn more about interactive tables.';\n",
              "          element.innerHTML = '';\n",
              "          dataTable['output_type'] = 'display_data';\n",
              "          await google.colab.output.renderOutput(dataTable, element);\n",
              "          const docLink = document.createElement('div');\n",
              "          docLink.innerHTML = docLinkHtml;\n",
              "          element.appendChild(docLink);\n",
              "        }\n",
              "      </script>\n",
              "    </div>\n",
              "  </div>\n",
              "  "
            ]
          },
          "metadata": {},
          "execution_count": 33
        }
      ]
    },
    {
      "cell_type": "code",
      "source": [
        "X.Sex.unique(), X.Embarked.unique()"
      ],
      "metadata": {
        "colab": {
          "base_uri": "https://localhost:8080/"
        },
        "id": "9D3Cj-nigEUS",
        "outputId": "248cd283-d7c9-4885-c24d-20fce90c8e0b"
      },
      "execution_count": 37,
      "outputs": [
        {
          "output_type": "execute_result",
          "data": {
            "text/plain": [
              "(array(['male', 'female'], dtype=object), array(['S', 'C', 'Q'], dtype=object))"
            ]
          },
          "metadata": {},
          "execution_count": 37
        }
      ]
    },
    {
      "cell_type": "code",
      "source": [
        "X.drop(['Sex', 'Embarked'], axis=1, inplace=True)\n",
        "X"
      ],
      "metadata": {
        "colab": {
          "base_uri": "https://localhost:8080/",
          "height": 423
        },
        "id": "B-GVC2-IgXrT",
        "outputId": "bdf8d404-cfcd-458d-a4c2-1112394fd28d"
      },
      "execution_count": 38,
      "outputs": [
        {
          "output_type": "execute_result",
          "data": {
            "text/plain": [
              "     Pclass   Age  SibSp  Parch     Fare    0    1    2    3    4\n",
              "0         3  22.0      1      0   7.2500  0.0  1.0  0.0  0.0  1.0\n",
              "1         1  38.0      1      0  71.2833  1.0  0.0  1.0  0.0  0.0\n",
              "2         3  26.0      0      0   7.9250  1.0  0.0  0.0  0.0  1.0\n",
              "3         1  35.0      1      0  53.1000  1.0  0.0  0.0  0.0  1.0\n",
              "4         3  35.0      0      0   8.0500  0.0  1.0  0.0  0.0  1.0\n",
              "..      ...   ...    ...    ...      ...  ...  ...  ...  ...  ...\n",
              "812       2  27.0      0      0  13.0000  0.0  1.0  0.0  0.0  1.0\n",
              "813       1  19.0      0      0  30.0000  1.0  0.0  0.0  0.0  1.0\n",
              "814       3  28.0      1      2  23.4500  1.0  0.0  0.0  0.0  1.0\n",
              "815       1  26.0      0      0  30.0000  0.0  1.0  1.0  0.0  0.0\n",
              "816       3  32.0      0      0   7.7500  0.0  1.0  0.0  1.0  0.0\n",
              "\n",
              "[817 rows x 10 columns]"
            ],
            "text/html": [
              "\n",
              "  <div id=\"df-3f80d0c3-41c4-412a-bfa5-a564a2239a39\">\n",
              "    <div class=\"colab-df-container\">\n",
              "      <div>\n",
              "<style scoped>\n",
              "    .dataframe tbody tr th:only-of-type {\n",
              "        vertical-align: middle;\n",
              "    }\n",
              "\n",
              "    .dataframe tbody tr th {\n",
              "        vertical-align: top;\n",
              "    }\n",
              "\n",
              "    .dataframe thead th {\n",
              "        text-align: right;\n",
              "    }\n",
              "</style>\n",
              "<table border=\"1\" class=\"dataframe\">\n",
              "  <thead>\n",
              "    <tr style=\"text-align: right;\">\n",
              "      <th></th>\n",
              "      <th>Pclass</th>\n",
              "      <th>Age</th>\n",
              "      <th>SibSp</th>\n",
              "      <th>Parch</th>\n",
              "      <th>Fare</th>\n",
              "      <th>0</th>\n",
              "      <th>1</th>\n",
              "      <th>2</th>\n",
              "      <th>3</th>\n",
              "      <th>4</th>\n",
              "    </tr>\n",
              "  </thead>\n",
              "  <tbody>\n",
              "    <tr>\n",
              "      <th>0</th>\n",
              "      <td>3</td>\n",
              "      <td>22.0</td>\n",
              "      <td>1</td>\n",
              "      <td>0</td>\n",
              "      <td>7.2500</td>\n",
              "      <td>0.0</td>\n",
              "      <td>1.0</td>\n",
              "      <td>0.0</td>\n",
              "      <td>0.0</td>\n",
              "      <td>1.0</td>\n",
              "    </tr>\n",
              "    <tr>\n",
              "      <th>1</th>\n",
              "      <td>1</td>\n",
              "      <td>38.0</td>\n",
              "      <td>1</td>\n",
              "      <td>0</td>\n",
              "      <td>71.2833</td>\n",
              "      <td>1.0</td>\n",
              "      <td>0.0</td>\n",
              "      <td>1.0</td>\n",
              "      <td>0.0</td>\n",
              "      <td>0.0</td>\n",
              "    </tr>\n",
              "    <tr>\n",
              "      <th>2</th>\n",
              "      <td>3</td>\n",
              "      <td>26.0</td>\n",
              "      <td>0</td>\n",
              "      <td>0</td>\n",
              "      <td>7.9250</td>\n",
              "      <td>1.0</td>\n",
              "      <td>0.0</td>\n",
              "      <td>0.0</td>\n",
              "      <td>0.0</td>\n",
              "      <td>1.0</td>\n",
              "    </tr>\n",
              "    <tr>\n",
              "      <th>3</th>\n",
              "      <td>1</td>\n",
              "      <td>35.0</td>\n",
              "      <td>1</td>\n",
              "      <td>0</td>\n",
              "      <td>53.1000</td>\n",
              "      <td>1.0</td>\n",
              "      <td>0.0</td>\n",
              "      <td>0.0</td>\n",
              "      <td>0.0</td>\n",
              "      <td>1.0</td>\n",
              "    </tr>\n",
              "    <tr>\n",
              "      <th>4</th>\n",
              "      <td>3</td>\n",
              "      <td>35.0</td>\n",
              "      <td>0</td>\n",
              "      <td>0</td>\n",
              "      <td>8.0500</td>\n",
              "      <td>0.0</td>\n",
              "      <td>1.0</td>\n",
              "      <td>0.0</td>\n",
              "      <td>0.0</td>\n",
              "      <td>1.0</td>\n",
              "    </tr>\n",
              "    <tr>\n",
              "      <th>...</th>\n",
              "      <td>...</td>\n",
              "      <td>...</td>\n",
              "      <td>...</td>\n",
              "      <td>...</td>\n",
              "      <td>...</td>\n",
              "      <td>...</td>\n",
              "      <td>...</td>\n",
              "      <td>...</td>\n",
              "      <td>...</td>\n",
              "      <td>...</td>\n",
              "    </tr>\n",
              "    <tr>\n",
              "      <th>812</th>\n",
              "      <td>2</td>\n",
              "      <td>27.0</td>\n",
              "      <td>0</td>\n",
              "      <td>0</td>\n",
              "      <td>13.0000</td>\n",
              "      <td>0.0</td>\n",
              "      <td>1.0</td>\n",
              "      <td>0.0</td>\n",
              "      <td>0.0</td>\n",
              "      <td>1.0</td>\n",
              "    </tr>\n",
              "    <tr>\n",
              "      <th>813</th>\n",
              "      <td>1</td>\n",
              "      <td>19.0</td>\n",
              "      <td>0</td>\n",
              "      <td>0</td>\n",
              "      <td>30.0000</td>\n",
              "      <td>1.0</td>\n",
              "      <td>0.0</td>\n",
              "      <td>0.0</td>\n",
              "      <td>0.0</td>\n",
              "      <td>1.0</td>\n",
              "    </tr>\n",
              "    <tr>\n",
              "      <th>814</th>\n",
              "      <td>3</td>\n",
              "      <td>28.0</td>\n",
              "      <td>1</td>\n",
              "      <td>2</td>\n",
              "      <td>23.4500</td>\n",
              "      <td>1.0</td>\n",
              "      <td>0.0</td>\n",
              "      <td>0.0</td>\n",
              "      <td>0.0</td>\n",
              "      <td>1.0</td>\n",
              "    </tr>\n",
              "    <tr>\n",
              "      <th>815</th>\n",
              "      <td>1</td>\n",
              "      <td>26.0</td>\n",
              "      <td>0</td>\n",
              "      <td>0</td>\n",
              "      <td>30.0000</td>\n",
              "      <td>0.0</td>\n",
              "      <td>1.0</td>\n",
              "      <td>1.0</td>\n",
              "      <td>0.0</td>\n",
              "      <td>0.0</td>\n",
              "    </tr>\n",
              "    <tr>\n",
              "      <th>816</th>\n",
              "      <td>3</td>\n",
              "      <td>32.0</td>\n",
              "      <td>0</td>\n",
              "      <td>0</td>\n",
              "      <td>7.7500</td>\n",
              "      <td>0.0</td>\n",
              "      <td>1.0</td>\n",
              "      <td>0.0</td>\n",
              "      <td>1.0</td>\n",
              "      <td>0.0</td>\n",
              "    </tr>\n",
              "  </tbody>\n",
              "</table>\n",
              "<p>817 rows × 10 columns</p>\n",
              "</div>\n",
              "      <button class=\"colab-df-convert\" onclick=\"convertToInteractive('df-3f80d0c3-41c4-412a-bfa5-a564a2239a39')\"\n",
              "              title=\"Convert this dataframe to an interactive table.\"\n",
              "              style=\"display:none;\">\n",
              "        \n",
              "  <svg xmlns=\"http://www.w3.org/2000/svg\" height=\"24px\"viewBox=\"0 0 24 24\"\n",
              "       width=\"24px\">\n",
              "    <path d=\"M0 0h24v24H0V0z\" fill=\"none\"/>\n",
              "    <path d=\"M18.56 5.44l.94 2.06.94-2.06 2.06-.94-2.06-.94-.94-2.06-.94 2.06-2.06.94zm-11 1L8.5 8.5l.94-2.06 2.06-.94-2.06-.94L8.5 2.5l-.94 2.06-2.06.94zm10 10l.94 2.06.94-2.06 2.06-.94-2.06-.94-.94-2.06-.94 2.06-2.06.94z\"/><path d=\"M17.41 7.96l-1.37-1.37c-.4-.4-.92-.59-1.43-.59-.52 0-1.04.2-1.43.59L10.3 9.45l-7.72 7.72c-.78.78-.78 2.05 0 2.83L4 21.41c.39.39.9.59 1.41.59.51 0 1.02-.2 1.41-.59l7.78-7.78 2.81-2.81c.8-.78.8-2.07 0-2.86zM5.41 20L4 18.59l7.72-7.72 1.47 1.35L5.41 20z\"/>\n",
              "  </svg>\n",
              "      </button>\n",
              "      \n",
              "  <style>\n",
              "    .colab-df-container {\n",
              "      display:flex;\n",
              "      flex-wrap:wrap;\n",
              "      gap: 12px;\n",
              "    }\n",
              "\n",
              "    .colab-df-convert {\n",
              "      background-color: #E8F0FE;\n",
              "      border: none;\n",
              "      border-radius: 50%;\n",
              "      cursor: pointer;\n",
              "      display: none;\n",
              "      fill: #1967D2;\n",
              "      height: 32px;\n",
              "      padding: 0 0 0 0;\n",
              "      width: 32px;\n",
              "    }\n",
              "\n",
              "    .colab-df-convert:hover {\n",
              "      background-color: #E2EBFA;\n",
              "      box-shadow: 0px 1px 2px rgba(60, 64, 67, 0.3), 0px 1px 3px 1px rgba(60, 64, 67, 0.15);\n",
              "      fill: #174EA6;\n",
              "    }\n",
              "\n",
              "    [theme=dark] .colab-df-convert {\n",
              "      background-color: #3B4455;\n",
              "      fill: #D2E3FC;\n",
              "    }\n",
              "\n",
              "    [theme=dark] .colab-df-convert:hover {\n",
              "      background-color: #434B5C;\n",
              "      box-shadow: 0px 1px 3px 1px rgba(0, 0, 0, 0.15);\n",
              "      filter: drop-shadow(0px 1px 2px rgba(0, 0, 0, 0.3));\n",
              "      fill: #FFFFFF;\n",
              "    }\n",
              "  </style>\n",
              "\n",
              "      <script>\n",
              "        const buttonEl =\n",
              "          document.querySelector('#df-3f80d0c3-41c4-412a-bfa5-a564a2239a39 button.colab-df-convert');\n",
              "        buttonEl.style.display =\n",
              "          google.colab.kernel.accessAllowed ? 'block' : 'none';\n",
              "\n",
              "        async function convertToInteractive(key) {\n",
              "          const element = document.querySelector('#df-3f80d0c3-41c4-412a-bfa5-a564a2239a39');\n",
              "          const dataTable =\n",
              "            await google.colab.kernel.invokeFunction('convertToInteractive',\n",
              "                                                     [key], {});\n",
              "          if (!dataTable) return;\n",
              "\n",
              "          const docLinkHtml = 'Like what you see? Visit the ' +\n",
              "            '<a target=\"_blank\" href=https://colab.research.google.com/notebooks/data_table.ipynb>data table notebook</a>'\n",
              "            + ' to learn more about interactive tables.';\n",
              "          element.innerHTML = '';\n",
              "          dataTable['output_type'] = 'display_data';\n",
              "          await google.colab.output.renderOutput(dataTable, element);\n",
              "          const docLink = document.createElement('div');\n",
              "          docLink.innerHTML = docLinkHtml;\n",
              "          element.appendChild(docLink);\n",
              "        }\n",
              "      </script>\n",
              "    </div>\n",
              "  </div>\n",
              "  "
            ]
          },
          "metadata": {},
          "execution_count": 38
        }
      ]
    },
    {
      "cell_type": "markdown",
      "source": [
        "## Splitting the dataset into training and testing"
      ],
      "metadata": {
        "id": "hIh3PnXGgqP5"
      }
    },
    {
      "cell_type": "code",
      "source": [
        "X_train, X_test, y_train, y_test = train_test_split(X, y, test_size=0.2, random_state=10)"
      ],
      "metadata": {
        "id": "H46judTmgmZw"
      },
      "execution_count": 40,
      "outputs": []
    },
    {
      "cell_type": "code",
      "source": [
        "len(X_train), len(X_test)"
      ],
      "metadata": {
        "colab": {
          "base_uri": "https://localhost:8080/"
        },
        "id": "9-AiBDJUhFb_",
        "outputId": "411d9bb8-edc4-4c01-e8a2-411f121c6bef"
      },
      "execution_count": 41,
      "outputs": [
        {
          "output_type": "execute_result",
          "data": {
            "text/plain": [
              "(653, 164)"
            ]
          },
          "metadata": {},
          "execution_count": 41
        }
      ]
    },
    {
      "cell_type": "markdown",
      "source": [
        "## Applying XGBoost Classifier"
      ],
      "metadata": {
        "id": "jHrRiipdhLBW"
      }
    },
    {
      "cell_type": "code",
      "source": [
        "xgbc = XGBClassifier()\n",
        "xgbc.fit(X_train, y_train)"
      ],
      "metadata": {
        "colab": {
          "base_uri": "https://localhost:8080/"
        },
        "id": "HJJ4YgKdhJAe",
        "outputId": "17c11656-7a92-4b33-cdd3-8ecc80dad173"
      },
      "execution_count": 43,
      "outputs": [
        {
          "output_type": "execute_result",
          "data": {
            "text/plain": [
              "XGBClassifier()"
            ]
          },
          "metadata": {},
          "execution_count": 43
        }
      ]
    },
    {
      "cell_type": "code",
      "source": [
        "xgbc.score(X_train, y_train)"
      ],
      "metadata": {
        "colab": {
          "base_uri": "https://localhost:8080/"
        },
        "id": "45Bs8kyGhfol",
        "outputId": "d672ccda-0ab5-4f8c-9091-d84039523957"
      },
      "execution_count": 44,
      "outputs": [
        {
          "output_type": "execute_result",
          "data": {
            "text/plain": [
              "0.8836140888208269"
            ]
          },
          "metadata": {},
          "execution_count": 44
        }
      ]
    },
    {
      "cell_type": "code",
      "source": [
        "xgbc.score(X_test, y_test)"
      ],
      "metadata": {
        "colab": {
          "base_uri": "https://localhost:8080/"
        },
        "id": "tjb-W1rihjwe",
        "outputId": "dec37b8e-1db4-446e-a879-cc62da13e36e"
      },
      "execution_count": 45,
      "outputs": [
        {
          "output_type": "execute_result",
          "data": {
            "text/plain": [
              "0.8170731707317073"
            ]
          },
          "metadata": {},
          "execution_count": 45
        }
      ]
    },
    {
      "cell_type": "markdown",
      "source": [
        "As the problem is overfitting in nature, we shall try to minimise this using grid search cv and randomised search cv and early stopping"
      ],
      "metadata": {
        "id": "XcSyt4VGhtDn"
      }
    },
    {
      "cell_type": "markdown",
      "source": [
        "## Building a grid search CV and Randomsearch CV module in single function"
      ],
      "metadata": {
        "id": "ceszaGW7hy1C"
      }
    },
    {
      "cell_type": "code",
      "source": [
        "from sklearn.model_selection import GridSearchCV, RandomizedSearchCV\n",
        "\n",
        "#Also applying stratifiedkfold instead of cv\n",
        "from sklearn.model_selection import StratifiedKFold\n",
        "\n",
        "kfold = StratifiedKFold(n_splits=5, shuffle=True, random_state=2)"
      ],
      "metadata": {
        "id": "pbvUsNTbhmw3"
      },
      "execution_count": 46,
      "outputs": []
    },
    {
      "cell_type": "code",
      "source": [
        "def grid_rand_search(X, y, model, params, random=False):\n",
        "    if random:\n",
        "        grid = RandomizedSearchCV(model, params, n_jobs=-1, cv=kfold, n_iter=20)\n",
        "    else:\n",
        "        grid = GridSearchCV(model, params, n_jobs=-1, cv=kfold)\n",
        "    grid.fit(X, y)\n",
        "    best_params = grid.best_params_\n",
        "    best_score = grid.best_score_\n",
        "    print(\"The best params of the models are:\", best_params)\n",
        "    print(\"The best score of the model is:\", best_score)"
      ],
      "metadata": {
        "id": "L5hk7SfmiMvG"
      },
      "execution_count": 47,
      "outputs": []
    },
    {
      "cell_type": "code",
      "source": [
        "params = {'n_estimators': [50, 100, 200, 300, 400, 500, 600, 700]}\n",
        "grid_rand_search(X, y, xgbc, params)"
      ],
      "metadata": {
        "colab": {
          "base_uri": "https://localhost:8080/"
        },
        "id": "JQLExkZTjKRH",
        "outputId": "74bb06e4-546a-4f68-dbd1-1e4c9d7d2a9b"
      },
      "execution_count": 48,
      "outputs": [
        {
          "output_type": "stream",
          "name": "stdout",
          "text": [
            "The best params of the models are: {'n_estimators': 600}\n",
            "The best score of the model is: 0.8311237468202904\n"
          ]
        }
      ]
    },
    {
      "cell_type": "code",
      "source": [
        "params={'learning_rate':[0.01,0.05,0.1,0.3,0.5,0.7,0.9],'n_estimators':[600]}\n",
        "grid_rand_search(X,y,xgbc,params)"
      ],
      "metadata": {
        "colab": {
          "base_uri": "https://localhost:8080/"
        },
        "id": "xCJI20nsjZ40",
        "outputId": "5872dc40-7c16-4e76-d579-8eaf02d6629c"
      },
      "execution_count": 50,
      "outputs": [
        {
          "output_type": "stream",
          "name": "stdout",
          "text": [
            "The best params of the models are: {'learning_rate': 0.05, 'n_estimators': 600}\n",
            "The best score of the model is: 0.8323432590154123\n"
          ]
        }
      ]
    },
    {
      "cell_type": "code",
      "source": [
        "params={'max_depth':[2,3,5,6,8],'learning_rate':[0.05],'n_estimators':[600]}\n",
        "grid_rand_search(X,y,xgbc,params)"
      ],
      "metadata": {
        "colab": {
          "base_uri": "https://localhost:8080/"
        },
        "id": "y-kQwfBojh1w",
        "outputId": "43636fd9-9aa1-405e-c4c8-23909751336a"
      },
      "execution_count": 51,
      "outputs": [
        {
          "output_type": "stream",
          "name": "stdout",
          "text": [
            "The best params of the models are: {'learning_rate': 0.05, 'max_depth': 3, 'n_estimators': 600}\n",
            "The best score of the model is: 0.8323432590154123\n"
          ]
        }
      ]
    },
    {
      "cell_type": "code",
      "source": [
        "params={'gamma':[0,0.1,0.5,1,2,5],'max_depth':[3],'learning_rate':[0.05],'n_estimators':[600]}\n",
        "grid_rand_search(X,y,xgbc,params)"
      ],
      "metadata": {
        "colab": {
          "base_uri": "https://localhost:8080/"
        },
        "id": "U74EdKcCjuu1",
        "outputId": "bb6ed12a-5f29-4719-a4a9-eb77eb26ea28"
      },
      "execution_count": 52,
      "outputs": [
        {
          "output_type": "stream",
          "name": "stdout",
          "text": [
            "The best params of the models are: {'gamma': 0, 'learning_rate': 0.05, 'max_depth': 3, 'n_estimators': 600}\n",
            "The best score of the model is: 0.8323432590154123\n"
          ]
        }
      ]
    },
    {
      "cell_type": "code",
      "source": [
        "params={'min_child_weight':[1,2,3,4,5], 'gamma':[0],'max_depth':[3],'learning_rate':[0.05],'n_estimators':[600]}\n",
        "grid_rand_search(X,y,xgbc,params)"
      ],
      "metadata": {
        "colab": {
          "base_uri": "https://localhost:8080/"
        },
        "id": "ein6J_zAj2sr",
        "outputId": "00a32555-03a2-4de7-9c82-e77e47df6d09"
      },
      "execution_count": 53,
      "outputs": [
        {
          "output_type": "stream",
          "name": "stdout",
          "text": [
            "The best params of the models are: {'gamma': 0, 'learning_rate': 0.05, 'max_depth': 3, 'min_child_weight': 1, 'n_estimators': 600}\n",
            "The best score of the model is: 0.8323432590154123\n"
          ]
        }
      ]
    },
    {
      "cell_type": "markdown",
      "source": [
        "# using RandomisedSearchCV"
      ],
      "metadata": {
        "id": "FAPdLR5pkUgE"
      }
    },
    {
      "cell_type": "code",
      "source": [
        "params={\n",
        "    'subsample':[0.3,0.5,0.7,0.9],\n",
        "    'gamma':[0,0.1,0.5,1,2,5],\n",
        "    'learning_rate':[0.05,0.1,0.3,0.5,0.7,0.9],\n",
        "    'max_depth':[1,2,3,4,5,6,7],\n",
        "    'n_estimators':[50,100,150,200,300,400]\n",
        "}\n",
        "grid_rand_search(X,y,xgbc,params,random=True)"
      ],
      "metadata": {
        "colab": {
          "base_uri": "https://localhost:8080/"
        },
        "id": "Yr7sNxe5j_6H",
        "outputId": "ce183b94-2e0f-46a7-cca5-2614ca418953"
      },
      "execution_count": 54,
      "outputs": [
        {
          "output_type": "stream",
          "name": "stdout",
          "text": [
            "The best params of the models are: {'subsample': 0.7, 'n_estimators': 100, 'max_depth': 6, 'learning_rate': 0.1, 'gamma': 0}\n",
            "The best score of the model is: 0.8323432590154123\n"
          ]
        }
      ]
    },
    {
      "cell_type": "code",
      "source": [
        "xgbc.set_params(subsample=0.7, n_estimators=100, max_depth=6, learning_rate=0.1, gamma=0)"
      ],
      "metadata": {
        "colab": {
          "base_uri": "https://localhost:8080/"
        },
        "id": "GS-xNAgckXRM",
        "outputId": "a29c2082-679c-433f-e413-d22b962dcb30"
      },
      "execution_count": 55,
      "outputs": [
        {
          "output_type": "execute_result",
          "data": {
            "text/plain": [
              "XGBClassifier(max_depth=6, subsample=0.7)"
            ]
          },
          "metadata": {},
          "execution_count": 55
        }
      ]
    },
    {
      "cell_type": "code",
      "source": [
        "df_test=load_dataset(test_path)\n",
        "id_=df_test['PassengerId']"
      ],
      "metadata": {
        "id": "hK7OSYwWksht"
      },
      "execution_count": 58,
      "outputs": []
    },
    {
      "cell_type": "code",
      "source": [
        "df_test.drop(['Name','Ticket','Cabin','PassengerId'],axis=1,inplace=True)\n",
        "df_test"
      ],
      "metadata": {
        "colab": {
          "base_uri": "https://localhost:8080/",
          "height": 423
        },
        "id": "_PAvOygbkvm-",
        "outputId": "c273c235-8b9d-47a3-ae6d-c676789f4d93"
      },
      "execution_count": 59,
      "outputs": [
        {
          "output_type": "execute_result",
          "data": {
            "text/plain": [
              "     Pclass     Sex   Age  SibSp  Parch      Fare Embarked\n",
              "0         3    male  34.5      0      0    7.8292        Q\n",
              "1         3  female  47.0      1      0    7.0000        S\n",
              "2         2    male  62.0      0      0    9.6875        Q\n",
              "3         3    male  27.0      0      0    8.6625        S\n",
              "4         3  female  22.0      1      1   12.2875        S\n",
              "..      ...     ...   ...    ...    ...       ...      ...\n",
              "413       3    male   NaN      0      0    8.0500        S\n",
              "414       1  female  39.0      0      0  108.9000        C\n",
              "415       3    male  38.5      0      0    7.2500        S\n",
              "416       3    male   NaN      0      0    8.0500        S\n",
              "417       3    male   NaN      1      1   22.3583        C\n",
              "\n",
              "[418 rows x 7 columns]"
            ],
            "text/html": [
              "\n",
              "  <div id=\"df-244e9d85-c97a-4c00-92be-cc909a33043c\">\n",
              "    <div class=\"colab-df-container\">\n",
              "      <div>\n",
              "<style scoped>\n",
              "    .dataframe tbody tr th:only-of-type {\n",
              "        vertical-align: middle;\n",
              "    }\n",
              "\n",
              "    .dataframe tbody tr th {\n",
              "        vertical-align: top;\n",
              "    }\n",
              "\n",
              "    .dataframe thead th {\n",
              "        text-align: right;\n",
              "    }\n",
              "</style>\n",
              "<table border=\"1\" class=\"dataframe\">\n",
              "  <thead>\n",
              "    <tr style=\"text-align: right;\">\n",
              "      <th></th>\n",
              "      <th>Pclass</th>\n",
              "      <th>Sex</th>\n",
              "      <th>Age</th>\n",
              "      <th>SibSp</th>\n",
              "      <th>Parch</th>\n",
              "      <th>Fare</th>\n",
              "      <th>Embarked</th>\n",
              "    </tr>\n",
              "  </thead>\n",
              "  <tbody>\n",
              "    <tr>\n",
              "      <th>0</th>\n",
              "      <td>3</td>\n",
              "      <td>male</td>\n",
              "      <td>34.5</td>\n",
              "      <td>0</td>\n",
              "      <td>0</td>\n",
              "      <td>7.8292</td>\n",
              "      <td>Q</td>\n",
              "    </tr>\n",
              "    <tr>\n",
              "      <th>1</th>\n",
              "      <td>3</td>\n",
              "      <td>female</td>\n",
              "      <td>47.0</td>\n",
              "      <td>1</td>\n",
              "      <td>0</td>\n",
              "      <td>7.0000</td>\n",
              "      <td>S</td>\n",
              "    </tr>\n",
              "    <tr>\n",
              "      <th>2</th>\n",
              "      <td>2</td>\n",
              "      <td>male</td>\n",
              "      <td>62.0</td>\n",
              "      <td>0</td>\n",
              "      <td>0</td>\n",
              "      <td>9.6875</td>\n",
              "      <td>Q</td>\n",
              "    </tr>\n",
              "    <tr>\n",
              "      <th>3</th>\n",
              "      <td>3</td>\n",
              "      <td>male</td>\n",
              "      <td>27.0</td>\n",
              "      <td>0</td>\n",
              "      <td>0</td>\n",
              "      <td>8.6625</td>\n",
              "      <td>S</td>\n",
              "    </tr>\n",
              "    <tr>\n",
              "      <th>4</th>\n",
              "      <td>3</td>\n",
              "      <td>female</td>\n",
              "      <td>22.0</td>\n",
              "      <td>1</td>\n",
              "      <td>1</td>\n",
              "      <td>12.2875</td>\n",
              "      <td>S</td>\n",
              "    </tr>\n",
              "    <tr>\n",
              "      <th>...</th>\n",
              "      <td>...</td>\n",
              "      <td>...</td>\n",
              "      <td>...</td>\n",
              "      <td>...</td>\n",
              "      <td>...</td>\n",
              "      <td>...</td>\n",
              "      <td>...</td>\n",
              "    </tr>\n",
              "    <tr>\n",
              "      <th>413</th>\n",
              "      <td>3</td>\n",
              "      <td>male</td>\n",
              "      <td>NaN</td>\n",
              "      <td>0</td>\n",
              "      <td>0</td>\n",
              "      <td>8.0500</td>\n",
              "      <td>S</td>\n",
              "    </tr>\n",
              "    <tr>\n",
              "      <th>414</th>\n",
              "      <td>1</td>\n",
              "      <td>female</td>\n",
              "      <td>39.0</td>\n",
              "      <td>0</td>\n",
              "      <td>0</td>\n",
              "      <td>108.9000</td>\n",
              "      <td>C</td>\n",
              "    </tr>\n",
              "    <tr>\n",
              "      <th>415</th>\n",
              "      <td>3</td>\n",
              "      <td>male</td>\n",
              "      <td>38.5</td>\n",
              "      <td>0</td>\n",
              "      <td>0</td>\n",
              "      <td>7.2500</td>\n",
              "      <td>S</td>\n",
              "    </tr>\n",
              "    <tr>\n",
              "      <th>416</th>\n",
              "      <td>3</td>\n",
              "      <td>male</td>\n",
              "      <td>NaN</td>\n",
              "      <td>0</td>\n",
              "      <td>0</td>\n",
              "      <td>8.0500</td>\n",
              "      <td>S</td>\n",
              "    </tr>\n",
              "    <tr>\n",
              "      <th>417</th>\n",
              "      <td>3</td>\n",
              "      <td>male</td>\n",
              "      <td>NaN</td>\n",
              "      <td>1</td>\n",
              "      <td>1</td>\n",
              "      <td>22.3583</td>\n",
              "      <td>C</td>\n",
              "    </tr>\n",
              "  </tbody>\n",
              "</table>\n",
              "<p>418 rows × 7 columns</p>\n",
              "</div>\n",
              "      <button class=\"colab-df-convert\" onclick=\"convertToInteractive('df-244e9d85-c97a-4c00-92be-cc909a33043c')\"\n",
              "              title=\"Convert this dataframe to an interactive table.\"\n",
              "              style=\"display:none;\">\n",
              "        \n",
              "  <svg xmlns=\"http://www.w3.org/2000/svg\" height=\"24px\"viewBox=\"0 0 24 24\"\n",
              "       width=\"24px\">\n",
              "    <path d=\"M0 0h24v24H0V0z\" fill=\"none\"/>\n",
              "    <path d=\"M18.56 5.44l.94 2.06.94-2.06 2.06-.94-2.06-.94-.94-2.06-.94 2.06-2.06.94zm-11 1L8.5 8.5l.94-2.06 2.06-.94-2.06-.94L8.5 2.5l-.94 2.06-2.06.94zm10 10l.94 2.06.94-2.06 2.06-.94-2.06-.94-.94-2.06-.94 2.06-2.06.94z\"/><path d=\"M17.41 7.96l-1.37-1.37c-.4-.4-.92-.59-1.43-.59-.52 0-1.04.2-1.43.59L10.3 9.45l-7.72 7.72c-.78.78-.78 2.05 0 2.83L4 21.41c.39.39.9.59 1.41.59.51 0 1.02-.2 1.41-.59l7.78-7.78 2.81-2.81c.8-.78.8-2.07 0-2.86zM5.41 20L4 18.59l7.72-7.72 1.47 1.35L5.41 20z\"/>\n",
              "  </svg>\n",
              "      </button>\n",
              "      \n",
              "  <style>\n",
              "    .colab-df-container {\n",
              "      display:flex;\n",
              "      flex-wrap:wrap;\n",
              "      gap: 12px;\n",
              "    }\n",
              "\n",
              "    .colab-df-convert {\n",
              "      background-color: #E8F0FE;\n",
              "      border: none;\n",
              "      border-radius: 50%;\n",
              "      cursor: pointer;\n",
              "      display: none;\n",
              "      fill: #1967D2;\n",
              "      height: 32px;\n",
              "      padding: 0 0 0 0;\n",
              "      width: 32px;\n",
              "    }\n",
              "\n",
              "    .colab-df-convert:hover {\n",
              "      background-color: #E2EBFA;\n",
              "      box-shadow: 0px 1px 2px rgba(60, 64, 67, 0.3), 0px 1px 3px 1px rgba(60, 64, 67, 0.15);\n",
              "      fill: #174EA6;\n",
              "    }\n",
              "\n",
              "    [theme=dark] .colab-df-convert {\n",
              "      background-color: #3B4455;\n",
              "      fill: #D2E3FC;\n",
              "    }\n",
              "\n",
              "    [theme=dark] .colab-df-convert:hover {\n",
              "      background-color: #434B5C;\n",
              "      box-shadow: 0px 1px 3px 1px rgba(0, 0, 0, 0.15);\n",
              "      filter: drop-shadow(0px 1px 2px rgba(0, 0, 0, 0.3));\n",
              "      fill: #FFFFFF;\n",
              "    }\n",
              "  </style>\n",
              "\n",
              "      <script>\n",
              "        const buttonEl =\n",
              "          document.querySelector('#df-244e9d85-c97a-4c00-92be-cc909a33043c button.colab-df-convert');\n",
              "        buttonEl.style.display =\n",
              "          google.colab.kernel.accessAllowed ? 'block' : 'none';\n",
              "\n",
              "        async function convertToInteractive(key) {\n",
              "          const element = document.querySelector('#df-244e9d85-c97a-4c00-92be-cc909a33043c');\n",
              "          const dataTable =\n",
              "            await google.colab.kernel.invokeFunction('convertToInteractive',\n",
              "                                                     [key], {});\n",
              "          if (!dataTable) return;\n",
              "\n",
              "          const docLinkHtml = 'Like what you see? Visit the ' +\n",
              "            '<a target=\"_blank\" href=https://colab.research.google.com/notebooks/data_table.ipynb>data table notebook</a>'\n",
              "            + ' to learn more about interactive tables.';\n",
              "          element.innerHTML = '';\n",
              "          dataTable['output_type'] = 'display_data';\n",
              "          await google.colab.output.renderOutput(dataTable, element);\n",
              "          const docLink = document.createElement('div');\n",
              "          docLink.innerHTML = docLinkHtml;\n",
              "          element.appendChild(docLink);\n",
              "        }\n",
              "      </script>\n",
              "    </div>\n",
              "  </div>\n",
              "  "
            ]
          },
          "metadata": {},
          "execution_count": 59
        }
      ]
    },
    {
      "cell_type": "code",
      "source": [
        "filling_missing_values(df_test)\n",
        "df_test=df_test.join(pd.DataFrame(ohc.fit_transform(df_test[cat_attributes]).toarray()))\n",
        "df_test.drop(['Sex','Embarked'],axis=1,inplace=True)\n",
        "df_test"
      ],
      "metadata": {
        "colab": {
          "base_uri": "https://localhost:8080/",
          "height": 423
        },
        "id": "tUh0PItTk1yP",
        "outputId": "dbaad00e-e797-4389-b21c-28fe0ba080d0"
      },
      "execution_count": 60,
      "outputs": [
        {
          "output_type": "execute_result",
          "data": {
            "text/plain": [
              "     Pclass   Age  SibSp  Parch      Fare    0    1    2    3    4\n",
              "0         3  34.5      0      0    7.8292  0.0  1.0  0.0  1.0  0.0\n",
              "1         3  47.0      1      0    7.0000  1.0  0.0  0.0  0.0  1.0\n",
              "2         2  62.0      0      0    9.6875  0.0  1.0  0.0  1.0  0.0\n",
              "3         3  27.0      0      0    8.6625  0.0  1.0  0.0  0.0  1.0\n",
              "4         3  22.0      1      1   12.2875  1.0  0.0  0.0  0.0  1.0\n",
              "..      ...   ...    ...    ...       ...  ...  ...  ...  ...  ...\n",
              "413       3  27.0      0      0    8.0500  0.0  1.0  0.0  0.0  1.0\n",
              "414       1  39.0      0      0  108.9000  1.0  0.0  1.0  0.0  0.0\n",
              "415       3  38.5      0      0    7.2500  0.0  1.0  0.0  0.0  1.0\n",
              "416       3  27.0      0      0    8.0500  0.0  1.0  0.0  0.0  1.0\n",
              "417       3  27.0      1      1   22.3583  0.0  1.0  1.0  0.0  0.0\n",
              "\n",
              "[418 rows x 10 columns]"
            ],
            "text/html": [
              "\n",
              "  <div id=\"df-2c717383-a695-4844-8231-ca0e4667b958\">\n",
              "    <div class=\"colab-df-container\">\n",
              "      <div>\n",
              "<style scoped>\n",
              "    .dataframe tbody tr th:only-of-type {\n",
              "        vertical-align: middle;\n",
              "    }\n",
              "\n",
              "    .dataframe tbody tr th {\n",
              "        vertical-align: top;\n",
              "    }\n",
              "\n",
              "    .dataframe thead th {\n",
              "        text-align: right;\n",
              "    }\n",
              "</style>\n",
              "<table border=\"1\" class=\"dataframe\">\n",
              "  <thead>\n",
              "    <tr style=\"text-align: right;\">\n",
              "      <th></th>\n",
              "      <th>Pclass</th>\n",
              "      <th>Age</th>\n",
              "      <th>SibSp</th>\n",
              "      <th>Parch</th>\n",
              "      <th>Fare</th>\n",
              "      <th>0</th>\n",
              "      <th>1</th>\n",
              "      <th>2</th>\n",
              "      <th>3</th>\n",
              "      <th>4</th>\n",
              "    </tr>\n",
              "  </thead>\n",
              "  <tbody>\n",
              "    <tr>\n",
              "      <th>0</th>\n",
              "      <td>3</td>\n",
              "      <td>34.5</td>\n",
              "      <td>0</td>\n",
              "      <td>0</td>\n",
              "      <td>7.8292</td>\n",
              "      <td>0.0</td>\n",
              "      <td>1.0</td>\n",
              "      <td>0.0</td>\n",
              "      <td>1.0</td>\n",
              "      <td>0.0</td>\n",
              "    </tr>\n",
              "    <tr>\n",
              "      <th>1</th>\n",
              "      <td>3</td>\n",
              "      <td>47.0</td>\n",
              "      <td>1</td>\n",
              "      <td>0</td>\n",
              "      <td>7.0000</td>\n",
              "      <td>1.0</td>\n",
              "      <td>0.0</td>\n",
              "      <td>0.0</td>\n",
              "      <td>0.0</td>\n",
              "      <td>1.0</td>\n",
              "    </tr>\n",
              "    <tr>\n",
              "      <th>2</th>\n",
              "      <td>2</td>\n",
              "      <td>62.0</td>\n",
              "      <td>0</td>\n",
              "      <td>0</td>\n",
              "      <td>9.6875</td>\n",
              "      <td>0.0</td>\n",
              "      <td>1.0</td>\n",
              "      <td>0.0</td>\n",
              "      <td>1.0</td>\n",
              "      <td>0.0</td>\n",
              "    </tr>\n",
              "    <tr>\n",
              "      <th>3</th>\n",
              "      <td>3</td>\n",
              "      <td>27.0</td>\n",
              "      <td>0</td>\n",
              "      <td>0</td>\n",
              "      <td>8.6625</td>\n",
              "      <td>0.0</td>\n",
              "      <td>1.0</td>\n",
              "      <td>0.0</td>\n",
              "      <td>0.0</td>\n",
              "      <td>1.0</td>\n",
              "    </tr>\n",
              "    <tr>\n",
              "      <th>4</th>\n",
              "      <td>3</td>\n",
              "      <td>22.0</td>\n",
              "      <td>1</td>\n",
              "      <td>1</td>\n",
              "      <td>12.2875</td>\n",
              "      <td>1.0</td>\n",
              "      <td>0.0</td>\n",
              "      <td>0.0</td>\n",
              "      <td>0.0</td>\n",
              "      <td>1.0</td>\n",
              "    </tr>\n",
              "    <tr>\n",
              "      <th>...</th>\n",
              "      <td>...</td>\n",
              "      <td>...</td>\n",
              "      <td>...</td>\n",
              "      <td>...</td>\n",
              "      <td>...</td>\n",
              "      <td>...</td>\n",
              "      <td>...</td>\n",
              "      <td>...</td>\n",
              "      <td>...</td>\n",
              "      <td>...</td>\n",
              "    </tr>\n",
              "    <tr>\n",
              "      <th>413</th>\n",
              "      <td>3</td>\n",
              "      <td>27.0</td>\n",
              "      <td>0</td>\n",
              "      <td>0</td>\n",
              "      <td>8.0500</td>\n",
              "      <td>0.0</td>\n",
              "      <td>1.0</td>\n",
              "      <td>0.0</td>\n",
              "      <td>0.0</td>\n",
              "      <td>1.0</td>\n",
              "    </tr>\n",
              "    <tr>\n",
              "      <th>414</th>\n",
              "      <td>1</td>\n",
              "      <td>39.0</td>\n",
              "      <td>0</td>\n",
              "      <td>0</td>\n",
              "      <td>108.9000</td>\n",
              "      <td>1.0</td>\n",
              "      <td>0.0</td>\n",
              "      <td>1.0</td>\n",
              "      <td>0.0</td>\n",
              "      <td>0.0</td>\n",
              "    </tr>\n",
              "    <tr>\n",
              "      <th>415</th>\n",
              "      <td>3</td>\n",
              "      <td>38.5</td>\n",
              "      <td>0</td>\n",
              "      <td>0</td>\n",
              "      <td>7.2500</td>\n",
              "      <td>0.0</td>\n",
              "      <td>1.0</td>\n",
              "      <td>0.0</td>\n",
              "      <td>0.0</td>\n",
              "      <td>1.0</td>\n",
              "    </tr>\n",
              "    <tr>\n",
              "      <th>416</th>\n",
              "      <td>3</td>\n",
              "      <td>27.0</td>\n",
              "      <td>0</td>\n",
              "      <td>0</td>\n",
              "      <td>8.0500</td>\n",
              "      <td>0.0</td>\n",
              "      <td>1.0</td>\n",
              "      <td>0.0</td>\n",
              "      <td>0.0</td>\n",
              "      <td>1.0</td>\n",
              "    </tr>\n",
              "    <tr>\n",
              "      <th>417</th>\n",
              "      <td>3</td>\n",
              "      <td>27.0</td>\n",
              "      <td>1</td>\n",
              "      <td>1</td>\n",
              "      <td>22.3583</td>\n",
              "      <td>0.0</td>\n",
              "      <td>1.0</td>\n",
              "      <td>1.0</td>\n",
              "      <td>0.0</td>\n",
              "      <td>0.0</td>\n",
              "    </tr>\n",
              "  </tbody>\n",
              "</table>\n",
              "<p>418 rows × 10 columns</p>\n",
              "</div>\n",
              "      <button class=\"colab-df-convert\" onclick=\"convertToInteractive('df-2c717383-a695-4844-8231-ca0e4667b958')\"\n",
              "              title=\"Convert this dataframe to an interactive table.\"\n",
              "              style=\"display:none;\">\n",
              "        \n",
              "  <svg xmlns=\"http://www.w3.org/2000/svg\" height=\"24px\"viewBox=\"0 0 24 24\"\n",
              "       width=\"24px\">\n",
              "    <path d=\"M0 0h24v24H0V0z\" fill=\"none\"/>\n",
              "    <path d=\"M18.56 5.44l.94 2.06.94-2.06 2.06-.94-2.06-.94-.94-2.06-.94 2.06-2.06.94zm-11 1L8.5 8.5l.94-2.06 2.06-.94-2.06-.94L8.5 2.5l-.94 2.06-2.06.94zm10 10l.94 2.06.94-2.06 2.06-.94-2.06-.94-.94-2.06-.94 2.06-2.06.94z\"/><path d=\"M17.41 7.96l-1.37-1.37c-.4-.4-.92-.59-1.43-.59-.52 0-1.04.2-1.43.59L10.3 9.45l-7.72 7.72c-.78.78-.78 2.05 0 2.83L4 21.41c.39.39.9.59 1.41.59.51 0 1.02-.2 1.41-.59l7.78-7.78 2.81-2.81c.8-.78.8-2.07 0-2.86zM5.41 20L4 18.59l7.72-7.72 1.47 1.35L5.41 20z\"/>\n",
              "  </svg>\n",
              "      </button>\n",
              "      \n",
              "  <style>\n",
              "    .colab-df-container {\n",
              "      display:flex;\n",
              "      flex-wrap:wrap;\n",
              "      gap: 12px;\n",
              "    }\n",
              "\n",
              "    .colab-df-convert {\n",
              "      background-color: #E8F0FE;\n",
              "      border: none;\n",
              "      border-radius: 50%;\n",
              "      cursor: pointer;\n",
              "      display: none;\n",
              "      fill: #1967D2;\n",
              "      height: 32px;\n",
              "      padding: 0 0 0 0;\n",
              "      width: 32px;\n",
              "    }\n",
              "\n",
              "    .colab-df-convert:hover {\n",
              "      background-color: #E2EBFA;\n",
              "      box-shadow: 0px 1px 2px rgba(60, 64, 67, 0.3), 0px 1px 3px 1px rgba(60, 64, 67, 0.15);\n",
              "      fill: #174EA6;\n",
              "    }\n",
              "\n",
              "    [theme=dark] .colab-df-convert {\n",
              "      background-color: #3B4455;\n",
              "      fill: #D2E3FC;\n",
              "    }\n",
              "\n",
              "    [theme=dark] .colab-df-convert:hover {\n",
              "      background-color: #434B5C;\n",
              "      box-shadow: 0px 1px 3px 1px rgba(0, 0, 0, 0.15);\n",
              "      filter: drop-shadow(0px 1px 2px rgba(0, 0, 0, 0.3));\n",
              "      fill: #FFFFFF;\n",
              "    }\n",
              "  </style>\n",
              "\n",
              "      <script>\n",
              "        const buttonEl =\n",
              "          document.querySelector('#df-2c717383-a695-4844-8231-ca0e4667b958 button.colab-df-convert');\n",
              "        buttonEl.style.display =\n",
              "          google.colab.kernel.accessAllowed ? 'block' : 'none';\n",
              "\n",
              "        async function convertToInteractive(key) {\n",
              "          const element = document.querySelector('#df-2c717383-a695-4844-8231-ca0e4667b958');\n",
              "          const dataTable =\n",
              "            await google.colab.kernel.invokeFunction('convertToInteractive',\n",
              "                                                     [key], {});\n",
              "          if (!dataTable) return;\n",
              "\n",
              "          const docLinkHtml = 'Like what you see? Visit the ' +\n",
              "            '<a target=\"_blank\" href=https://colab.research.google.com/notebooks/data_table.ipynb>data table notebook</a>'\n",
              "            + ' to learn more about interactive tables.';\n",
              "          element.innerHTML = '';\n",
              "          dataTable['output_type'] = 'display_data';\n",
              "          await google.colab.output.renderOutput(dataTable, element);\n",
              "          const docLink = document.createElement('div');\n",
              "          docLink.innerHTML = docLinkHtml;\n",
              "          element.appendChild(docLink);\n",
              "        }\n",
              "      </script>\n",
              "    </div>\n",
              "  </div>\n",
              "  "
            ]
          },
          "metadata": {},
          "execution_count": 60
        }
      ]
    },
    {
      "cell_type": "code",
      "source": [
        "y_pred=xgbc.predict(df_test)"
      ],
      "metadata": {
        "id": "xVdFOqHDlDWM"
      },
      "execution_count": 62,
      "outputs": []
    },
    {
      "cell_type": "code",
      "source": [
        "from sklearn.metrics import confusion_matrix, classification_report"
      ],
      "metadata": {
        "id": "qFyx6I_vlF_9"
      },
      "execution_count": 63,
      "outputs": []
    },
    {
      "cell_type": "code",
      "source": [
        "cnf_matrix = confusion_matrix(id_, y_pred)"
      ],
      "metadata": {
        "id": "9CmIcSjolQ2G"
      },
      "execution_count": 70,
      "outputs": []
    },
    {
      "cell_type": "code",
      "source": [
        "classification_report(id_, y_pred)"
      ],
      "metadata": {
        "colab": {
          "base_uri": "https://localhost:8080/",
          "height": 384
        },
        "id": "Yer_ICIdlhV-",
        "outputId": "e650f2bb-ed96-4deb-f7d1-e195a3d5a512"
      },
      "execution_count": 71,
      "outputs": [
        {
          "output_type": "stream",
          "name": "stderr",
          "text": [
            "/usr/local/lib/python3.7/dist-packages/sklearn/metrics/_classification.py:1318: UndefinedMetricWarning: Precision and F-score are ill-defined and being set to 0.0 in labels with no predicted samples. Use `zero_division` parameter to control this behavior.\n",
            "  _warn_prf(average, modifier, msg_start, len(result))\n",
            "/usr/local/lib/python3.7/dist-packages/sklearn/metrics/_classification.py:1318: UndefinedMetricWarning: Recall and F-score are ill-defined and being set to 0.0 in labels with no true samples. Use `zero_division` parameter to control this behavior.\n",
            "  _warn_prf(average, modifier, msg_start, len(result))\n",
            "/usr/local/lib/python3.7/dist-packages/sklearn/metrics/_classification.py:1318: UndefinedMetricWarning: Precision and F-score are ill-defined and being set to 0.0 in labels with no predicted samples. Use `zero_division` parameter to control this behavior.\n",
            "  _warn_prf(average, modifier, msg_start, len(result))\n",
            "/usr/local/lib/python3.7/dist-packages/sklearn/metrics/_classification.py:1318: UndefinedMetricWarning: Recall and F-score are ill-defined and being set to 0.0 in labels with no true samples. Use `zero_division` parameter to control this behavior.\n",
            "  _warn_prf(average, modifier, msg_start, len(result))\n",
            "/usr/local/lib/python3.7/dist-packages/sklearn/metrics/_classification.py:1318: UndefinedMetricWarning: Precision and F-score are ill-defined and being set to 0.0 in labels with no predicted samples. Use `zero_division` parameter to control this behavior.\n",
            "  _warn_prf(average, modifier, msg_start, len(result))\n",
            "/usr/local/lib/python3.7/dist-packages/sklearn/metrics/_classification.py:1318: UndefinedMetricWarning: Recall and F-score are ill-defined and being set to 0.0 in labels with no true samples. Use `zero_division` parameter to control this behavior.\n",
            "  _warn_prf(average, modifier, msg_start, len(result))\n"
          ]
        },
        {
          "output_type": "execute_result",
          "data": {
            "text/plain": [
              "'              precision    recall  f1-score   support\\n\\n           0       0.00      0.00      0.00       0.0\\n           1       0.00      0.00      0.00       0.0\\n         892       0.00      0.00      0.00       1.0\\n         893       0.00      0.00      0.00       1.0\\n         894       0.00      0.00      0.00       1.0\\n         895       0.00      0.00      0.00       1.0\\n         896       0.00      0.00      0.00       1.0\\n         897       0.00      0.00      0.00       1.0\\n         898       0.00      0.00      0.00       1.0\\n         899       0.00      0.00      0.00       1.0\\n         900       0.00      0.00      0.00       1.0\\n         901       0.00      0.00      0.00       1.0\\n         902       0.00      0.00      0.00       1.0\\n         903       0.00      0.00      0.00       1.0\\n         904       0.00      0.00      0.00       1.0\\n         905       0.00      0.00      0.00       1.0\\n         906       0.00      0.00      0.00       1.0\\n         907       0.00      0.00      0.00       1.0\\n         908       0.00      0.00      0.00       1.0\\n         909       0.00      0.00      0.00       1.0\\n         910       0.00      0.00      0.00       1.0\\n         911       0.00      0.00      0.00       1.0\\n         912       0.00      0.00      0.00       1.0\\n         913       0.00      0.00      0.00       1.0\\n         914       0.00      0.00      0.00       1.0\\n         915       0.00      0.00      0.00       1.0\\n         916       0.00      0.00      0.00       1.0\\n         917       0.00      0.00      0.00       1.0\\n         918       0.00      0.00      0.00       1.0\\n         919       0.00      0.00      0.00       1.0\\n         920       0.00      0.00      0.00       1.0\\n         921       0.00      0.00      0.00       1.0\\n         922       0.00      0.00      0.00       1.0\\n         923       0.00      0.00      0.00       1.0\\n         924       0.00      0.00      0.00       1.0\\n         925       0.00      0.00      0.00       1.0\\n         926       0.00      0.00      0.00       1.0\\n         927       0.00      0.00      0.00       1.0\\n         928       0.00      0.00      0.00       1.0\\n         929       0.00      0.00      0.00       1.0\\n         930       0.00      0.00      0.00       1.0\\n         931       0.00      0.00      0.00       1.0\\n         932       0.00      0.00      0.00       1.0\\n         933       0.00      0.00      0.00       1.0\\n         934       0.00      0.00      0.00       1.0\\n         935       0.00      0.00      0.00       1.0\\n         936       0.00      0.00      0.00       1.0\\n         937       0.00      0.00      0.00       1.0\\n         938       0.00      0.00      0.00       1.0\\n         939       0.00      0.00      0.00       1.0\\n         940       0.00      0.00      0.00       1.0\\n         941       0.00      0.00      0.00       1.0\\n         942       0.00      0.00      0.00       1.0\\n         943       0.00      0.00      0.00       1.0\\n         944       0.00      0.00      0.00       1.0\\n         945       0.00      0.00      0.00       1.0\\n         946       0.00      0.00      0.00       1.0\\n         947       0.00      0.00      0.00       1.0\\n         948       0.00      0.00      0.00       1.0\\n         949       0.00      0.00      0.00       1.0\\n         950       0.00      0.00      0.00       1.0\\n         951       0.00      0.00      0.00       1.0\\n         952       0.00      0.00      0.00       1.0\\n         953       0.00      0.00      0.00       1.0\\n         954       0.00      0.00      0.00       1.0\\n         955       0.00      0.00      0.00       1.0\\n         956       0.00      0.00      0.00       1.0\\n         957       0.00      0.00      0.00       1.0\\n         958       0.00      0.00      0.00       1.0\\n         959       0.00      0.00      0.00       1.0\\n         960       0.00      0.00      0.00       1.0\\n         961       0.00      0.00      0.00       1.0\\n         962       0.00      0.00      0.00       1.0\\n         963       0.00      0.00      0.00       1.0\\n         964       0.00      0.00      0.00       1.0\\n         965       0.00      0.00      0.00       1.0\\n         966       0.00      0.00      0.00       1.0\\n         967       0.00      0.00      0.00       1.0\\n         968       0.00      0.00      0.00       1.0\\n         969       0.00      0.00      0.00       1.0\\n         970       0.00      0.00      0.00       1.0\\n         971       0.00      0.00      0.00       1.0\\n         972       0.00      0.00      0.00       1.0\\n         973       0.00      0.00      0.00       1.0\\n         974       0.00      0.00      0.00       1.0\\n         975       0.00      0.00      0.00       1.0\\n         976       0.00      0.00      0.00       1.0\\n         977       0.00      0.00      0.00       1.0\\n         978       0.00      0.00      0.00       1.0\\n         979       0.00      0.00      0.00       1.0\\n         980       0.00      0.00      0.00       1.0\\n         981       0.00      0.00      0.00       1.0\\n         982       0.00      0.00      0.00       1.0\\n         983       0.00      0.00      0.00       1.0\\n         984       0.00      0.00      0.00       1.0\\n         985       0.00      0.00      0.00       1.0\\n         986       0.00      0.00      0.00       1.0\\n         987       0.00      0.00      0.00       1.0\\n         988       0.00      0.00      0.00       1.0\\n         989       0.00      0.00      0.00       1.0\\n         990       0.00      0.00      0.00       1.0\\n         991       0.00      0.00      0.00       1.0\\n         992       0.00      0.00      0.00       1.0\\n         993       0.00      0.00      0.00       1.0\\n         994       0.00      0.00      0.00       1.0\\n         995       0.00      0.00      0.00       1.0\\n         996       0.00      0.00      0.00       1.0\\n         997       0.00      0.00      0.00       1.0\\n         998       0.00      0.00      0.00       1.0\\n         999       0.00      0.00      0.00       1.0\\n        1000       0.00      0.00      0.00       1.0\\n        1001       0.00      0.00      0.00       1.0\\n        1002       0.00      0.00      0.00       1.0\\n        1003       0.00      0.00      0.00       1.0\\n        1004       0.00      0.00      0.00       1.0\\n        1005       0.00      0.00      0.00       1.0\\n        1006       0.00      0.00      0.00       1.0\\n        1007       0.00      0.00      0.00       1.0\\n        1008       0.00      0.00      0.00       1.0\\n        1009       0.00      0.00      0.00       1.0\\n        1010       0.00      0.00      0.00       1.0\\n        1011       0.00      0.00      0.00       1.0\\n        1012       0.00      0.00      0.00       1.0\\n        1013       0.00      0.00      0.00       1.0\\n        1014       0.00      0.00      0.00       1.0\\n        1015       0.00      0.00      0.00       1.0\\n        1016       0.00      0.00      0.00       1.0\\n        1017       0.00      0.00      0.00       1.0\\n        1018       0.00      0.00      0.00       1.0\\n        1019       0.00      0.00      0.00       1.0\\n        1020       0.00      0.00      0.00       1.0\\n        1021       0.00      0.00      0.00       1.0\\n        1022       0.00      0.00      0.00       1.0\\n        1023       0.00      0.00      0.00       1.0\\n        1024       0.00      0.00      0.00       1.0\\n        1025       0.00      0.00      0.00       1.0\\n        1026       0.00      0.00      0.00       1.0\\n        1027       0.00      0.00      0.00       1.0\\n        1028       0.00      0.00      0.00       1.0\\n        1029       0.00      0.00      0.00       1.0\\n        1030       0.00      0.00      0.00       1.0\\n        1031       0.00      0.00      0.00       1.0\\n        1032       0.00      0.00      0.00       1.0\\n        1033       0.00      0.00      0.00       1.0\\n        1034       0.00      0.00      0.00       1.0\\n        1035       0.00      0.00      0.00       1.0\\n        1036       0.00      0.00      0.00       1.0\\n        1037       0.00      0.00      0.00       1.0\\n        1038       0.00      0.00      0.00       1.0\\n        1039       0.00      0.00      0.00       1.0\\n        1040       0.00      0.00      0.00       1.0\\n        1041       0.00      0.00      0.00       1.0\\n        1042       0.00      0.00      0.00       1.0\\n        1043       0.00      0.00      0.00       1.0\\n        1044       0.00      0.00      0.00       1.0\\n        1045       0.00      0.00      0.00       1.0\\n        1046       0.00      0.00      0.00       1.0\\n        1047       0.00      0.00      0.00       1.0\\n        1048       0.00      0.00      0.00       1.0\\n        1049       0.00      0.00      0.00       1.0\\n        1050       0.00      0.00      0.00       1.0\\n        1051       0.00      0.00      0.00       1.0\\n        1052       0.00      0.00      0.00       1.0\\n        1053       0.00      0.00      0.00       1.0\\n        1054       0.00      0.00      0.00       1.0\\n        1055       0.00      0.00      0.00       1.0\\n        1056       0.00      0.00      0.00       1.0\\n        1057       0.00      0.00      0.00       1.0\\n        1058       0.00      0.00      0.00       1.0\\n        1059       0.00      0.00      0.00       1.0\\n        1060       0.00      0.00      0.00       1.0\\n        1061       0.00      0.00      0.00       1.0\\n        1062       0.00      0.00      0.00       1.0\\n        1063       0.00      0.00      0.00       1.0\\n        1064       0.00      0.00      0.00       1.0\\n        1065       0.00      0.00      0.00       1.0\\n        1066       0.00      0.00      0.00       1.0\\n        1067       0.00      0.00      0.00       1.0\\n        1068       0.00      0.00      0.00       1.0\\n        1069       0.00      0.00      0.00       1.0\\n        1070       0.00      0.00      0.00       1.0\\n        1071       0.00      0.00      0.00       1.0\\n        1072       0.00      0.00      0.00       1.0\\n        1073       0.00      0.00      0.00       1.0\\n        1074       0.00      0.00      0.00       1.0\\n        1075       0.00      0.00      0.00       1.0\\n        1076       0.00      0.00      0.00       1.0\\n        1077       0.00      0.00      0.00       1.0\\n        1078       0.00      0.00      0.00       1.0\\n        1079       0.00      0.00      0.00       1.0\\n        1080       0.00      0.00      0.00       1.0\\n        1081       0.00      0.00      0.00       1.0\\n        1082       0.00      0.00      0.00       1.0\\n        1083       0.00      0.00      0.00       1.0\\n        1084       0.00      0.00      0.00       1.0\\n        1085       0.00      0.00      0.00       1.0\\n        1086       0.00      0.00      0.00       1.0\\n        1087       0.00      0.00      0.00       1.0\\n        1088       0.00      0.00      0.00       1.0\\n        1089       0.00      0.00      0.00       1.0\\n        1090       0.00      0.00      0.00       1.0\\n        1091       0.00      0.00      0.00       1.0\\n        1092       0.00      0.00      0.00       1.0\\n        1093       0.00      0.00      0.00       1.0\\n        1094       0.00      0.00      0.00       1.0\\n        1095       0.00      0.00      0.00       1.0\\n        1096       0.00      0.00      0.00       1.0\\n        1097       0.00      0.00      0.00       1.0\\n        1098       0.00      0.00      0.00       1.0\\n        1099       0.00      0.00      0.00       1.0\\n        1100       0.00      0.00      0.00       1.0\\n        1101       0.00      0.00      0.00       1.0\\n        1102       0.00      0.00      0.00       1.0\\n        1103       0.00      0.00      0.00       1.0\\n        1104       0.00      0.00      0.00       1.0\\n        1105       0.00      0.00      0.00       1.0\\n        1106       0.00      0.00      0.00       1.0\\n        1107       0.00      0.00      0.00       1.0\\n        1108       0.00      0.00      0.00       1.0\\n        1109       0.00      0.00      0.00       1.0\\n        1110       0.00      0.00      0.00       1.0\\n        1111       0.00      0.00      0.00       1.0\\n        1112       0.00      0.00      0.00       1.0\\n        1113       0.00      0.00      0.00       1.0\\n        1114       0.00      0.00      0.00       1.0\\n        1115       0.00      0.00      0.00       1.0\\n        1116       0.00      0.00      0.00       1.0\\n        1117       0.00      0.00      0.00       1.0\\n        1118       0.00      0.00      0.00       1.0\\n        1119       0.00      0.00      0.00       1.0\\n        1120       0.00      0.00      0.00       1.0\\n        1121       0.00      0.00      0.00       1.0\\n        1122       0.00      0.00      0.00       1.0\\n        1123       0.00      0.00      0.00       1.0\\n        1124       0.00      0.00      0.00       1.0\\n        1125       0.00      0.00      0.00       1.0\\n        1126       0.00      0.00      0.00       1.0\\n        1127       0.00      0.00      0.00       1.0\\n        1128       0.00      0.00      0.00       1.0\\n        1129       0.00      0.00      0.00       1.0\\n        1130       0.00      0.00      0.00       1.0\\n        1131       0.00      0.00      0.00       1.0\\n        1132       0.00      0.00      0.00       1.0\\n        1133       0.00      0.00      0.00       1.0\\n        1134       0.00      0.00      0.00       1.0\\n        1135       0.00      0.00      0.00       1.0\\n        1136       0.00      0.00      0.00       1.0\\n        1137       0.00      0.00      0.00       1.0\\n        1138       0.00      0.00      0.00       1.0\\n        1139       0.00      0.00      0.00       1.0\\n        1140       0.00      0.00      0.00       1.0\\n        1141       0.00      0.00      0.00       1.0\\n        1142       0.00      0.00      0.00       1.0\\n        1143       0.00      0.00      0.00       1.0\\n        1144       0.00      0.00      0.00       1.0\\n        1145       0.00      0.00      0.00       1.0\\n        1146       0.00      0.00      0.00       1.0\\n        1147       0.00      0.00      0.00       1.0\\n        1148       0.00      0.00      0.00       1.0\\n        1149       0.00      0.00      0.00       1.0\\n        1150       0.00      0.00      0.00       1.0\\n        1151       0.00      0.00      0.00       1.0\\n        1152       0.00      0.00      0.00       1.0\\n        1153       0.00      0.00      0.00       1.0\\n        1154       0.00      0.00      0.00       1.0\\n        1155       0.00      0.00      0.00       1.0\\n        1156       0.00      0.00      0.00       1.0\\n        1157       0.00      0.00      0.00       1.0\\n        1158       0.00      0.00      0.00       1.0\\n        1159       0.00      0.00      0.00       1.0\\n        1160       0.00      0.00      0.00       1.0\\n        1161       0.00      0.00      0.00       1.0\\n        1162       0.00      0.00      0.00       1.0\\n        1163       0.00      0.00      0.00       1.0\\n        1164       0.00      0.00      0.00       1.0\\n        1165       0.00      0.00      0.00       1.0\\n        1166       0.00      0.00      0.00       1.0\\n        1167       0.00      0.00      0.00       1.0\\n        1168       0.00      0.00      0.00       1.0\\n        1169       0.00      0.00      0.00       1.0\\n        1170       0.00      0.00      0.00       1.0\\n        1171       0.00      0.00      0.00       1.0\\n        1172       0.00      0.00      0.00       1.0\\n        1173       0.00      0.00      0.00       1.0\\n        1174       0.00      0.00      0.00       1.0\\n        1175       0.00      0.00      0.00       1.0\\n        1176       0.00      0.00      0.00       1.0\\n        1177       0.00      0.00      0.00       1.0\\n        1178       0.00      0.00      0.00       1.0\\n        1179       0.00      0.00      0.00       1.0\\n        1180       0.00      0.00      0.00       1.0\\n        1181       0.00      0.00      0.00       1.0\\n        1182       0.00      0.00      0.00       1.0\\n        1183       0.00      0.00      0.00       1.0\\n        1184       0.00      0.00      0.00       1.0\\n        1185       0.00      0.00      0.00       1.0\\n        1186       0.00      0.00      0.00       1.0\\n        1187       0.00      0.00      0.00       1.0\\n        1188       0.00      0.00      0.00       1.0\\n        1189       0.00      0.00      0.00       1.0\\n        1190       0.00      0.00      0.00       1.0\\n        1191       0.00      0.00      0.00       1.0\\n        1192       0.00      0.00      0.00       1.0\\n        1193       0.00      0.00      0.00       1.0\\n        1194       0.00      0.00      0.00       1.0\\n        1195       0.00      0.00      0.00       1.0\\n        1196       0.00      0.00      0.00       1.0\\n        1197       0.00      0.00      0.00       1.0\\n        1198       0.00      0.00      0.00       1.0\\n        1199       0.00      0.00      0.00       1.0\\n        1200       0.00      0.00      0.00       1.0\\n        1201       0.00      0.00      0.00       1.0\\n        1202       0.00      0.00      0.00       1.0\\n        1203       0.00      0.00      0.00       1.0\\n        1204       0.00      0.00      0.00       1.0\\n        1205       0.00      0.00      0.00       1.0\\n        1206       0.00      0.00      0.00       1.0\\n        1207       0.00      0.00      0.00       1.0\\n        1208       0.00      0.00      0.00       1.0\\n        1209       0.00      0.00      0.00       1.0\\n        1210       0.00      0.00      0.00       1.0\\n        1211       0.00      0.00      0.00       1.0\\n        1212       0.00      0.00      0.00       1.0\\n        1213       0.00      0.00      0.00       1.0\\n        1214       0.00      0.00      0.00       1.0\\n        1215       0.00      0.00      0.00       1.0\\n        1216       0.00      0.00      0.00       1.0\\n        1217       0.00      0.00      0.00       1.0\\n        1218       0.00      0.00      0.00       1.0\\n        1219       0.00      0.00      0.00       1.0\\n        1220       0.00      0.00      0.00       1.0\\n        1221       0.00      0.00      0.00       1.0\\n        1222       0.00      0.00      0.00       1.0\\n        1223       0.00      0.00      0.00       1.0\\n        1224       0.00      0.00      0.00       1.0\\n        1225       0.00      0.00      0.00       1.0\\n        1226       0.00      0.00      0.00       1.0\\n        1227       0.00      0.00      0.00       1.0\\n        1228       0.00      0.00      0.00       1.0\\n        1229       0.00      0.00      0.00       1.0\\n        1230       0.00      0.00      0.00       1.0\\n        1231       0.00      0.00      0.00       1.0\\n        1232       0.00      0.00      0.00       1.0\\n        1233       0.00      0.00      0.00       1.0\\n        1234       0.00      0.00      0.00       1.0\\n        1235       0.00      0.00      0.00       1.0\\n        1236       0.00      0.00      0.00       1.0\\n        1237       0.00      0.00      0.00       1.0\\n        1238       0.00      0.00      0.00       1.0\\n        1239       0.00      0.00      0.00       1.0\\n        1240       0.00      0.00      0.00       1.0\\n        1241       0.00      0.00      0.00       1.0\\n        1242       0.00      0.00      0.00       1.0\\n        1243       0.00      0.00      0.00       1.0\\n        1244       0.00      0.00      0.00       1.0\\n        1245       0.00      0.00      0.00       1.0\\n        1246       0.00      0.00      0.00       1.0\\n        1247       0.00      0.00      0.00       1.0\\n        1248       0.00      0.00      0.00       1.0\\n        1249       0.00      0.00      0.00       1.0\\n        1250       0.00      0.00      0.00       1.0\\n        1251       0.00      0.00      0.00       1.0\\n        1252       0.00      0.00      0.00       1.0\\n        1253       0.00      0.00      0.00       1.0\\n        1254       0.00      0.00      0.00       1.0\\n        1255       0.00      0.00      0.00       1.0\\n        1256       0.00      0.00      0.00       1.0\\n        1257       0.00      0.00      0.00       1.0\\n        1258       0.00      0.00      0.00       1.0\\n        1259       0.00      0.00      0.00       1.0\\n        1260       0.00      0.00      0.00       1.0\\n        1261       0.00      0.00      0.00       1.0\\n        1262       0.00      0.00      0.00       1.0\\n        1263       0.00      0.00      0.00       1.0\\n        1264       0.00      0.00      0.00       1.0\\n        1265       0.00      0.00      0.00       1.0\\n        1266       0.00      0.00      0.00       1.0\\n        1267       0.00      0.00      0.00       1.0\\n        1268       0.00      0.00      0.00       1.0\\n        1269       0.00      0.00      0.00       1.0\\n        1270       0.00      0.00      0.00       1.0\\n        1271       0.00      0.00      0.00       1.0\\n        1272       0.00      0.00      0.00       1.0\\n        1273       0.00      0.00      0.00       1.0\\n        1274       0.00      0.00      0.00       1.0\\n        1275       0.00      0.00      0.00       1.0\\n        1276       0.00      0.00      0.00       1.0\\n        1277       0.00      0.00      0.00       1.0\\n        1278       0.00      0.00      0.00       1.0\\n        1279       0.00      0.00      0.00       1.0\\n        1280       0.00      0.00      0.00       1.0\\n        1281       0.00      0.00      0.00       1.0\\n        1282       0.00      0.00      0.00       1.0\\n        1283       0.00      0.00      0.00       1.0\\n        1284       0.00      0.00      0.00       1.0\\n        1285       0.00      0.00      0.00       1.0\\n        1286       0.00      0.00      0.00       1.0\\n        1287       0.00      0.00      0.00       1.0\\n        1288       0.00      0.00      0.00       1.0\\n        1289       0.00      0.00      0.00       1.0\\n        1290       0.00      0.00      0.00       1.0\\n        1291       0.00      0.00      0.00       1.0\\n        1292       0.00      0.00      0.00       1.0\\n        1293       0.00      0.00      0.00       1.0\\n        1294       0.00      0.00      0.00       1.0\\n        1295       0.00      0.00      0.00       1.0\\n        1296       0.00      0.00      0.00       1.0\\n        1297       0.00      0.00      0.00       1.0\\n        1298       0.00      0.00      0.00       1.0\\n        1299       0.00      0.00      0.00       1.0\\n        1300       0.00      0.00      0.00       1.0\\n        1301       0.00      0.00      0.00       1.0\\n        1302       0.00      0.00      0.00       1.0\\n        1303       0.00      0.00      0.00       1.0\\n        1304       0.00      0.00      0.00       1.0\\n        1305       0.00      0.00      0.00       1.0\\n        1306       0.00      0.00      0.00       1.0\\n        1307       0.00      0.00      0.00       1.0\\n        1308       0.00      0.00      0.00       1.0\\n        1309       0.00      0.00      0.00       1.0\\n\\n    accuracy                           0.00     418.0\\n   macro avg       0.00      0.00      0.00     418.0\\nweighted avg       0.00      0.00      0.00     418.0\\n'"
            ],
            "application/vnd.google.colaboratory.intrinsic+json": {
              "type": "string"
            }
          },
          "metadata": {},
          "execution_count": 71
        }
      ]
    },
    {
      "cell_type": "code",
      "source": [],
      "metadata": {
        "id": "DxcNwK_Il_gf"
      },
      "execution_count": null,
      "outputs": []
    }
  ]
}