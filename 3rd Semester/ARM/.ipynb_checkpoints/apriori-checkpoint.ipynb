{
 "cells": [
  {
   "cell_type": "code",
   "execution_count": 1,
   "id": "c639b760-e750-4717-b031-5c15a9d46d56",
   "metadata": {},
   "outputs": [],
   "source": [
    "data = [\n",
    "    [\"I1\", \"I2\", \"I5\"],\n",
    "    [\"I2\", \"I4\"],\n",
    "    [\"I2\", \"I3\"],\n",
    "    [\"I1\", \"I2\", \"I4\"],\n",
    "    [\"I1\", \"I3\"],\n",
    "    [\"I2\", \"I3\", \"I6\"],\n",
    "    [\"I1\", \"I3\"],\n",
    "    [\"I1\", \"I2\", \"I3\", \"I5\"],\n",
    "    [\"I1\", \"I2\", \"I3\", \"I7\"]\n",
    "]"
   ]
  },
  {
   "cell_type": "code",
   "execution_count": 5,
   "id": "93b2f7f5-38c8-4b64-8478-90b3e451b132",
   "metadata": {},
   "outputs": [],
   "source": [
    "def find_support_item(dataset):\n",
    "    for i in data:\n",
    "        for j in i:\n",
    "            print(j, end=\" \")\n",
    "        print()"
   ]
  },
  {
   "cell_type": "code",
   "execution_count": 6,
   "id": "00f97940-b797-4ad7-a2f7-ed483c4e05e6",
   "metadata": {},
   "outputs": [
    {
     "name": "stdout",
     "output_type": "stream",
     "text": [
      "I1 I2 I5 \n",
      "I2 I4 \n",
      "I2 I3 \n",
      "I1 I2 I4 \n",
      "I1 I3 \n",
      "I2 I3 I6 \n",
      "I1 I3 \n",
      "I1 I2 I3 I5 \n",
      "I1 I2 I3 I7 \n"
     ]
    }
   ],
   "source": [
    "find_support_item(data)"
   ]
  },
  {
   "cell_type": "code",
   "execution_count": null,
   "id": "61d44e2e-810c-4fb1-a14a-d493030b3e31",
   "metadata": {},
   "outputs": [],
   "source": []
  }
 ],
 "metadata": {
  "kernelspec": {
   "display_name": "Python 3 (ipykernel)",
   "language": "python",
   "name": "python3"
  },
  "language_info": {
   "codemirror_mode": {
    "name": "ipython",
    "version": 3
   },
   "file_extension": ".py",
   "mimetype": "text/x-python",
   "name": "python",
   "nbconvert_exporter": "python",
   "pygments_lexer": "ipython3",
   "version": "3.10.8"
  }
 },
 "nbformat": 4,
 "nbformat_minor": 5
}
