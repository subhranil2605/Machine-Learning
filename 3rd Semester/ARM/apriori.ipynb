{
 "cells": [
  {
   "cell_type": "code",
   "execution_count": 9,
   "id": "857a3027-791b-49fe-afb0-755598b910ed",
   "metadata": {},
   "outputs": [],
   "source": [
    "from itertools import chain"
   ]
  },
  {
   "cell_type": "code",
   "execution_count": 36,
   "id": "643c0b13-6e0b-442f-9ce6-c337fc790f78",
   "metadata": {},
   "outputs": [],
   "source": [
    "MINSUP = 2"
   ]
  },
  {
   "cell_type": "code",
   "execution_count": 96,
   "id": "c639b760-e750-4717-b031-5c15a9d46d56",
   "metadata": {},
   "outputs": [],
   "source": [
    "data = [\n",
    "    [\"I1\", \"I2\", \"I5\"],\n",
    "    [\"I2\", \"I4\"],\n",
    "    [\"I2\", \"I3\"],\n",
    "    [\"I1\", \"I2\", \"I4\"],\n",
    "    [\"I1\", \"I3\"],\n",
    "    [\"I2\", \"I3\", \"I6\"],\n",
    "    [\"I1\", \"I3\"],\n",
    "    [\"I1\", \"I2\", \"I3\", \"I5\"],\n",
    "    [\"I1\", \"I2\", \"I3\", \"I7\"]\n",
    "]"
   ]
  },
  {
   "cell_type": "code",
   "execution_count": 34,
   "id": "93b2f7f5-38c8-4b64-8478-90b3e451b132",
   "metadata": {},
   "outputs": [],
   "source": [
    "# find support of each item in the transaction dataset\n",
    "def find_support_item(dataset):\n",
    "    return {i: list(chain(*dataset)).count(i) for i in sorted(set(chain(*dataset)))}"
   ]
  },
  {
   "cell_type": "code",
   "execution_count": 35,
   "id": "d1483e0d-5393-43ea-9f2e-98650214961d",
   "metadata": {},
   "outputs": [
    {
     "data": {
      "text/plain": [
       "{'I1': 6, 'I2': 7, 'I3': 6, 'I4': 2, 'I5': 2, 'I6': 1, 'I7': 1}"
      ]
     },
     "execution_count": 35,
     "metadata": {},
     "output_type": "execute_result"
    }
   ],
   "source": [
    "find_support_item(data)"
   ]
  },
  {
   "cell_type": "code",
   "execution_count": 94,
   "id": "169b2d1c-ef46-48f3-a52b-6f44e2ec4c4c",
   "metadata": {},
   "outputs": [],
   "source": [
    "# Remove the items which have not support greater or equal to the minsup\n",
    "# Then sort the dictionary\n",
    "def remove_and_sort_items(dataset):\n",
    "    supports = find_support_item(data) # first scan\n",
    "    need_to_delete = [key for key, val in supports.items() if val < MINSUP]\n",
    "    for i in need_to_delete:\n",
    "        del supports[i]\n",
    "    return {i[0]: i[1] for i in sorted(supports.items(), key=lambda x: x[1], reverse=True)}"
   ]
  },
  {
   "cell_type": "code",
   "execution_count": 97,
   "id": "95eaaead-f13b-467e-bc21-b97b615e24a7",
   "metadata": {},
   "outputs": [
    {
     "data": {
      "text/plain": [
       "{'I2': 7, 'I1': 6, 'I3': 6, 'I4': 2, 'I5': 2}"
      ]
     },
     "execution_count": 97,
     "metadata": {},
     "output_type": "execute_result"
    }
   ],
   "source": [
    "b = remove_and_sort_items(data)\n",
    "b"
   ]
  },
  {
   "cell_type": "code",
   "execution_count": 102,
   "id": "840994b4-6c69-482d-a54c-ef89ec3dfbcf",
   "metadata": {},
   "outputs": [],
   "source": [
    "def get_index(x):\n",
    "    try:\n",
    "        return list(b.keys()).index(x)\n",
    "    except ValueError:\n",
    "        return float('inf')  # Return a large value to place the element at the end of the list"
   ]
  },
  {
   "cell_type": "code",
   "execution_count": 105,
   "id": "b2fac444-831f-4f9d-b4b8-e82ba0714778",
   "metadata": {},
   "outputs": [
    {
     "data": {
      "text/plain": [
       "[['I2', 'I1', 'I5'],\n",
       " ['I2', 'I4'],\n",
       " ['I2', 'I3'],\n",
       " ['I2', 'I1', 'I4'],\n",
       " ['I1', 'I3'],\n",
       " ['I2', 'I3', 'I6'],\n",
       " ['I1', 'I3'],\n",
       " ['I2', 'I1', 'I3', 'I5'],\n",
       " ['I2', 'I1', 'I3', 'I7']]"
      ]
     },
     "execution_count": 105,
     "metadata": {},
     "output_type": "execute_result"
    }
   ],
   "source": [
    "# maintain the order\n",
    "new_data = [sorted(i, key=lambda x: get_index(x)) for i in data]    \n",
    "new_data"
   ]
  },
  {
   "cell_type": "code",
   "execution_count": 139,
   "id": "ede9fc08-83b4-4ba8-bf4f-58e21312bc3f",
   "metadata": {},
   "outputs": [
    {
     "name": "stdout",
     "output_type": "stream",
     "text": [
      "{'I2': [['I1', 'I5'], ['I4'], ['I3'], ['I1', 'I4'], ['I3', 'I6'], ['I1', 'I3', 'I5'], ['I1', 'I3', 'I7']], 'I1': [['I3'], ['I3']]}\n"
     ]
    }
   ],
   "source": [
    "c = dict()\n",
    "for i in new_data:\n",
    "    c.setdefault(i[0], []).append(i[1:])\n",
    "    \n",
    "print(c)"
   ]
  },
  {
   "cell_type": "code",
   "execution_count": 149,
   "id": "80b0f72a-cac4-4b54-bdca-67521e42588f",
   "metadata": {},
   "outputs": [
    {
     "data": {
      "text/plain": [
       "[['I1', 'I4', 'I3', 'I1', 'I3', 'I1', 'I1'], ['I3', 'I3']]"
      ]
     },
     "execution_count": 149,
     "metadata": {},
     "output_type": "execute_result"
    }
   ],
   "source": [
    "s = []\n",
    "for i in c:\n",
    "    v= []\n",
    "    for j in c[i]:\n",
    "        v.append(j[0])\n",
    "    s.append(v)\n",
    "    \n",
    "s"
   ]
  },
  {
   "cell_type": "code",
   "execution_count": 156,
   "id": "a726ed71-10bc-4267-9844-536797c46042",
   "metadata": {},
   "outputs": [
    {
     "name": "stdout",
     "output_type": "stream",
     "text": [
      "I3 2\n",
      "I1 4\n",
      "I4 1\n",
      "I3 2\n"
     ]
    }
   ],
   "source": [
    "for i in s:\n",
    "    for j in set(i):\n",
    "        print(j, i.count(j))"
   ]
  },
  {
   "cell_type": "code",
   "execution_count": 164,
   "id": "2e5b4124-908a-4be0-88fa-76d5e25c2434",
   "metadata": {},
   "outputs": [],
   "source": [
    "s = []\n",
    "for i in c.values():\n",
    "    s.append(list(chain(*i)))"
   ]
  },
  {
   "cell_type": "code",
   "execution_count": null,
   "id": "d1d2f92d-e375-4af6-b6e0-5bcad6ba0a8d",
   "metadata": {},
   "outputs": [],
   "source": []
  }
 ],
 "metadata": {
  "kernelspec": {
   "display_name": "Python 3 (ipykernel)",
   "language": "python",
   "name": "python3"
  },
  "language_info": {
   "codemirror_mode": {
    "name": "ipython",
    "version": 3
   },
   "file_extension": ".py",
   "mimetype": "text/x-python",
   "name": "python",
   "nbconvert_exporter": "python",
   "pygments_lexer": "ipython3",
   "version": "3.10.8"
  }
 },
 "nbformat": 4,
 "nbformat_minor": 5
}
