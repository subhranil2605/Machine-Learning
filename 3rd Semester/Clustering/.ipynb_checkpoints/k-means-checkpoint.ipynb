{
 "cells": [
  {
   "cell_type": "code",
   "execution_count": null,
   "id": "d2f613df-5f03-428a-9cc2-8c769e97533e",
   "metadata": {},
   "outputs": [],
   "source": []
  }
 ],
 "metadata": {
  "kernelspec": {
   "display_name": "Python 3 (ipykernel)",
   "language": "python",
   "name": "python3"
  },
  "language_info": {
   "name": ""
  }
 },
 "nbformat": 4,
 "nbformat_minor": 5
}
