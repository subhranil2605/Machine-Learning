{
 "cells": [
  {
   "cell_type": "code",
   "execution_count": 1,
   "id": "d2f613df-5f03-428a-9cc2-8c769e97533e",
   "metadata": {},
   "outputs": [],
   "source": [
    "import numpy as np\n",
    "import matplotlib.pyplot as plt\n",
    "from sklearn.datasets import make_blobs"
   ]
  },
  {
   "cell_type": "code",
   "execution_count": 2,
   "id": "48b72ea3-d53d-4826-9b17-881c54684118",
   "metadata": {},
   "outputs": [],
   "source": [
    "class Point:\n",
    "    def __init__(self, x, y):\n",
    "        self.x = x\n",
    "        self.y = y\n",
    "    \n",
    "    def distance(self, other):\n",
    "        return np.sqrt(np.power((self.x - other.x), 2) + np.power((self.y - other.y), 2))"
   ]
  },
  {
   "cell_type": "code",
   "execution_count": 3,
   "id": "2922795b-5e11-4043-b7d7-63968eb62026",
   "metadata": {},
   "outputs": [],
   "source": [
    "X, y = make_blobs(n_samples=100, centers=3, n_features=2, random_state=10)"
   ]
  },
  {
   "cell_type": "code",
   "execution_count": 4,
   "id": "0bab5ee2-9375-4b1f-9b6c-2e5eed87e77e",
   "metadata": {},
   "outputs": [],
   "source": [
    "dataset = [Point(i[0], i[1]) for i in X]"
   ]
  },
  {
   "cell_type": "code",
   "execution_count": 5,
   "id": "1ff54827-6b8d-4b72-9e16-7f76794acc9f",
   "metadata": {},
   "outputs": [
    {
     "data": {
      "image/png": "[encoded data removed]",
      "text/plain": [
       "<Figure size 640x480 with 1 Axes>"
      ]
     },
     "metadata": {},
     "output_type": "display_data"
    }
   ],
   "source": [
    "plt.scatter([i.x for i in dataset], [i.y for i in dataset])\n",
    "plt.show()"
   ]
  },
  {
   "cell_type": "code",
   "execution_count": 6,
   "id": "b826790e-5209-4cb6-9cc3-f077305997bb",
   "metadata": {},
   "outputs": [],
   "source": [
    "k = 3\n",
    "initial_points = np.random.choice(dataset, k)\n",
    "\n",
    "clusters = {}\n",
    "for i in dataset:\n",
    "    d = []\n",
    "    for j in initial_points:\n",
    "        d.append(i.distance(j))\n",
    "    clusters.setdefault(d.index(min(d)), []).append(i)\n",
    "    "
   ]
  },
  {
   "cell_type": "code",
   "execution_count": 9,
   "id": "d85dfa94-cd79-4d54-b6d9-4ec36ee1d35f",
   "metadata": {},
   "outputs": [
    {
     "ename": "ValueError",
     "evalue": "The truth value of an array with more than one element is ambiguous. Use a.any() or a.all()",
     "output_type": "error",
     "traceback": [
      "\u001b[1;31m---------------------------------------------------------------------------\u001b[0m",
      "\u001b[1;31mValueError\u001b[0m                                Traceback (most recent call last)",
      "Cell \u001b[1;32mIn [9], line 2\u001b[0m\n\u001b[0;32m      1\u001b[0m mean_points \u001b[38;5;241m=\u001b[39m [\u001b[38;5;241m0\u001b[39m] \u001b[38;5;241m*\u001b[39m k\n\u001b[1;32m----> 2\u001b[0m \u001b[38;5;28;01mwhile\u001b[39;00m \u001b[43minitial_points\u001b[49m\u001b[43m \u001b[49m\u001b[38;5;241;43m!=\u001b[39;49m\u001b[43m \u001b[49m\u001b[43mmean_points\u001b[49m:\n\u001b[0;32m      3\u001b[0m     \u001b[38;5;28;01mfor\u001b[39;00m c, value \u001b[38;5;129;01min\u001b[39;00m clusters\u001b[38;5;241m.\u001b[39mitems():\n\u001b[0;32m      4\u001b[0m         x_mean \u001b[38;5;241m=\u001b[39m np\u001b[38;5;241m.\u001b[39maverage([i\u001b[38;5;241m.\u001b[39mx \u001b[38;5;28;01mfor\u001b[39;00m i \u001b[38;5;129;01min\u001b[39;00m value]) \n",
      "\u001b[1;31mValueError\u001b[0m: The truth value of an array with more than one element is ambiguous. Use a.any() or a.all()"
     ]
    }
   ],
   "source": [
    "mean_points = [0] * k\n",
    "while initial_points != mean_points:\n",
    "    for c, value in clusters.items():\n",
    "        x_mean = np.average([i.x for i in value]) \n",
    "        y_mean = np.average([i.y for i in value]) \n",
    "        mean_points[c] = Point(x_mean, y_mean)\n",
    "    initial_points = mean_points"
   ]
  },
  {
   "cell_type": "code",
   "execution_count": 10,
   "id": "0f1fbba6-6597-4e91-846e-e3e36660833e",
   "metadata": {},
   "outputs": [],
   "source": [
    "a = [1, 2, 3]\n",
    "b = [2, 3, 4]"
   ]
  },
  {
   "cell_type": "code",
   "execution_count": 12,
   "id": "6109e95a-8369-4274-8924-8fa0aabf12c8",
   "metadata": {},
   "outputs": [
    {
     "ename": "AttributeError",
     "evalue": "'list' object has no attribute 'all'",
     "output_type": "error",
     "traceback": [
      "\u001b[1;31m---------------------------------------------------------------------------\u001b[0m",
      "\u001b[1;31mAttributeError\u001b[0m                            Traceback (most recent call last)",
      "Cell \u001b[1;32mIn [12], line 1\u001b[0m\n\u001b[1;32m----> 1\u001b[0m \u001b[43ma\u001b[49m\u001b[38;5;241;43m.\u001b[39;49m\u001b[43mall\u001b[49m(b)\n",
      "\u001b[1;31mAttributeError\u001b[0m: 'list' object has no attribute 'all'"
     ]
    }
   ],
   "source": [
    "a.all(b)"
   ]
  },
  {
   "cell_type": "code",
   "execution_count": null,
   "id": "d0c629e9-5e96-4bf4-a004-cdda27798b68",
   "metadata": {},
   "outputs": [],
   "source": []
  }
 ],
 "metadata": {
  "kernelspec": {
   "display_name": "Python 3 (ipykernel)",
   "language": "python",
   "name": "python3"
  },
  "language_info": {
   "codemirror_mode": {
    "name": "ipython",
    "version": 3
   },
   "file_extension": ".py",
   "mimetype": "text/x-python",
   "name": "python",
   "nbconvert_exporter": "python",
   "pygments_lexer": "ipython3",
   "version": "3.10.8"
  }
 },
 "nbformat": 4,
 "nbformat_minor": 5
}
