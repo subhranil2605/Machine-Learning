{
 "cells": [
  {
   "cell_type": "code",
   "execution_count": 1,
   "id": "84ca54ca-958c-4678-9cdc-13ced9be9487",
   "metadata": {},
   "outputs": [],
   "source": [
    "# import libraries\n",
    "import numpy as np\n",
    "from numpy import ndarray\n",
    "\n",
    "import unittest"
   ]
  },
  {
   "cell_type": "markdown",
   "id": "d653d7ea-cba7-467d-a109-1f3502e9eea4",
   "metadata": {},
   "source": [
    "## 1. Interval-scaled variables"
   ]
  },
  {
   "cell_type": "markdown",
   "id": "8bac51d1-0114-4071-be3e-b9258a6e3721",
   "metadata": {},
   "source": [
    "$$x_i = \\{x_{i1}, x_{i2}, \\cdots, x_{ip}\\}$$\n",
    "$$x_j = \\{x_{j1}, x_{j2}, \\cdots, x_{jp}\\}$$\n",
    "Standardize the values then find the distance\n",
    "$$ z_{if} = \\frac{x_{if} - m_{f}}{s_f} $$\n",
    "\n",
    "$$ m_f = \\frac{1}{n}\\sum\\limits_{i=1}^{n}x_{if}$$\n",
    "$$ s_f = \\frac{1}{n}\\sum\\limits_{i=1}^{n}|x_{if} - m_f|$$"
   ]
  },
  {
   "cell_type": "code",
   "execution_count": 30,
   "id": "4dd4f597-2ccc-4676-af27-e471fb6a44b2",
   "metadata": {},
   "outputs": [],
   "source": [
    "def standardize(data: ndarray) -> ndarray:\n",
    "    m = np.mean(data)\n",
    "    s = np.std(data)\n",
    "    return (data - m) / s\n",
    "\n",
    "def minkowski_distance(data1: ndarray, data2: ndarray, d: int):\n",
    "    return np.power(np.sum(np.power(np.abs(data1 - data2), d)), 1 / d)"
   ]
  },
  {
   "cell_type": "code",
   "execution_count": 37,
   "id": "bc706185-ffb0-41e1-8326-f365cdb94972",
   "metadata": {},
   "outputs": [
    {
     "name": "stdout",
     "output_type": "stream",
     "text": [
      "a, b: Without standardize: 530.0\n",
      "a, b: After standardize: 2.8504878297421103\n",
      "a, c: Without standardize: 4.0\n",
      "a, c: After standardize: 0.013668234218137232\n",
      "b, c: Without standardize: 528.0\n",
      "b, c: After standardize: 2.843523992852403\n"
     ]
    }
   ],
   "source": [
    "a = np.array([15, 23, 3, 563, 35])\n",
    "b = np.array([456, 40, 2, 599, 70])\n",
    "c = np.array([16, 22, 3, 564, 36])\n",
    "\n",
    "# distances\n",
    "d = 1\n",
    "print(\"a, b: Without standardize:\", minkowski_distance(a, b, d))\n",
    "print(\"a, b: After standardize:\", minkowski_distance(standardize(a), standardize(b), d))\n",
    "\n",
    "print(\"a, c: Without standardize:\", minkowski_distance(a, c, d))\n",
    "print(\"a, c: After standardize:\", minkowski_distance(standardize(a), standardize(c), d))\n",
    "\n",
    "print(\"b, c: Without standardize:\", minkowski_distance(b, c, d))\n",
    "print(\"b, c: After standardize:\", minkowski_distance(standardize(b), standardize(c), d))"
   ]
  },
  {
   "cell_type": "markdown",
   "id": "5ea477f3-7f97-4f54-b1f9-3026b80181c3",
   "metadata": {},
   "source": [
    "***\n",
    "## 2. Binary Variable\n",
    "Contingency Matrix\n",
    "| Objects | 1 | 0 |\n",
    "| --- | --- | --- |\n",
    "| 1 | a | b |\n",
    "| 0 | c | d |"
   ]
  },
  {
   "cell_type": "markdown",
   "id": "95546c52-5bb7-4b6d-8d89-003ba33e4bc4",
   "metadata": {},
   "source": [
    "### For the `symmetric` attributes:\n",
    "$$ d(i, j) = \\frac{b + c}{a+b+c+d}$$\n",
    "This is called simple matching coefficient\n",
    "### For the `asymmetric` attributes:\n",
    "$$ d(i, j) = \\frac{b + c}{a+b+c}$$\n",
    "This is called Jaccard's coefficient"
   ]
  },
  {
   "cell_type": "code",
   "execution_count": 68,
   "id": "4d78f795-8519-4281-a8e1-6ce7404c23c4",
   "metadata": {},
   "outputs": [],
   "source": [
    "def contingency_matrix(data1, data2):\n",
    "    keys = ['fever', 'cough', 'test_1', 'test_2', 'test_3', 'test_4']\n",
    "    values_1 = [data1[key] for key in keys]\n",
    "    values_2 = [data2[key] for key in keys]\n",
    "    \n",
    "    values_1 = list(map(lambda x: 1 if x == \"Y\" or x == \"P\" else 0, values_1))\n",
    "    values_2 = list(map(lambda x: 1 if x == \"Y\" or x == \"P\" else 0, values_2))\n",
    "    \n",
    "    a = b = c = d = 0\n",
    "    for i, j in zip(values_1, values_2):\n",
    "        if i == 1 and j == 1:\n",
    "            a += 1\n",
    "        elif i == 0 and j == 1:\n",
    "            b += 1\n",
    "        elif i == 1 and j == 0:\n",
    "            c += 1\n",
    "        else:\n",
    "            d += 1\n",
    "    return np.array([\n",
    "        [a, b],\n",
    "        [c, d]\n",
    "    ])\n",
    "\n",
    "def simple_matching_coefficient(cont_matrix: ndarray):\n",
    "    \"\"\"Symmetric variables\"\"\"\n",
    "    return (cont_matrix[0][1] + cont_matrix[1][0]) / (np.sum(cont_matrix))\n",
    "\n",
    "def jaccards_coefficient(cont_matrix: ndarray):\n",
    "    \"\"\"Asymmetric variables\"\"\"\n",
    "    return (cont_matrix[0][1] + cont_matrix[1][0]) / (np.sum(cont_matrix) - cont_matrix[1, 1])"
   ]
  },
  {
   "cell_type": "code",
   "execution_count": 69,
   "id": "271611f4-25f9-480d-bf5a-250592849008",
   "metadata": {},
   "outputs": [],
   "source": [
    "data = [\n",
    "    dict(name = \"Jack\", fever=\"Y\", cough=\"N\", test_1=\"P\", test_2=\"N\", test_3=\"N\", test_4=\"N\"),\n",
    "    dict(name = \"Mary\", fever=\"Y\", cough=\"N\", test_1=\"P\", test_2=\"N\", test_3=\"P\", test_4=\"N\"),\n",
    "    dict(name = \"Jim\", fever=\"Y\", cough=\"P\", test_1=\"N\", test_2=\"N\", test_3=\"N\", test_4=\"N\"),\n",
    "]"
   ]
  },
  {
   "cell_type": "code",
   "execution_count": 70,
   "id": "a41885f0-3025-434a-aeb0-254ecb6ea101",
   "metadata": {},
   "outputs": [
    {
     "name": "stdout",
     "output_type": "stream",
     "text": [
      "[[2 1]\n",
      " [0 3]]\n",
      "[[1 1]\n",
      " [1 3]]\n",
      "[[1 1]\n",
      " [2 2]]\n"
     ]
    }
   ],
   "source": [
    "c_01 = contingency_matrix(data[0], data[1])\n",
    "c_02 = contingency_matrix(data[0], data[2])\n",
    "c_12 = contingency_matrix(data[1], data[2])\n",
    "\n",
    "print(c_01, c_02, c_12, sep=\"\\n\")"
   ]
  },
  {
   "cell_type": "code",
   "execution_count": 71,
   "id": "be82365c-8408-4b41-a0a2-deaeacdcd92f",
   "metadata": {},
   "outputs": [
    {
     "name": "stdout",
     "output_type": "stream",
     "text": [
      "0.3333333333333333\n",
      "0.6666666666666666\n",
      "0.75\n"
     ]
    }
   ],
   "source": [
    "j_01 = jaccards_coefficient(c_01)\n",
    "j_02 = jaccards_coefficient(c_02)\n",
    "j_12 = jaccards_coefficient(c_12)\n",
    "\n",
    "print(j_01, j_02, j_12, sep=\"\\n\")"
   ]
  },
  {
   "cell_type": "markdown",
   "id": "0c36eeaa-b47b-4c9f-867f-ac62ad013d22",
   "metadata": {},
   "source": [
    "## 3. Nominal Values\n",
    "\n",
    "### i) Simple Matching:\n",
    "$$d(i, j) = \\frac{p - m}{p}$$\n",
    "$p$ : Total number of variables\n",
    "\n",
    "$m$ : Number of matching variables\n",
    "\n",
    "### ii) One-Hot Encoding\n",
    "Creates similar to assymetric binary attributes"
   ]
  },
  {
   "cell_type": "code",
   "execution_count": 72,
   "id": "90cb799f-e5d7-4843-993d-beeb137ec5f9",
   "metadata": {},
   "outputs": [],
   "source": [
    "data = [\n",
    "    dict(color_1 = \"black\", color_2 = \"red\", color_3 = \"brown\"),\n",
    "    dict(color_1 = \"golden\", color_2 = \"red\", color_3 = \"black\"),\n",
    "    dict(color_1 = \"yellow\", color_2 = \"brown\", color_3 = \"black\")\n",
    "]"
   ]
  },
  {
   "cell_type": "code",
   "execution_count": 96,
   "id": "1efdd796-6318-4739-acd1-2c1f645c84fb",
   "metadata": {},
   "outputs": [],
   "source": [
    "def simple_matching(data1, data2):\n",
    "    assert len(data1) == len(data2), \"Length should be same\"\n",
    "    p = len(data1)\n",
    "    m = 0\n",
    "    for i, j in zip(data1.values(), data2.values()):\n",
    "        if i == j:\n",
    "            m += 1\n",
    "    return (p - m) / p\n",
    "        \n",
    "def one_hot_encoding(data1, data2):\n",
    "    new_data = []\n",
    "    for i, j in zip(data1.items(), data2.items()):\n",
    "        new_data.append(f\"{i[0]}-{i[1]}\") if not f\"{i[0]}-{i[1]}\" in new_data else \"\"\n",
    "        new_data.append(f\"{j[0]}-{j[1]}\") if not f\"{j[0]}-{j[1]}\" in new_data else \"\"\n",
    "    \n",
    "    new_data_1 = dict()    \n",
    "    new_data_2 = dict()\n",
    "    "
   ]
  },
  {
   "cell_type": "code",
   "execution_count": 77,
   "id": "ef16e944-418e-4216-b197-d97beb809f45",
   "metadata": {},
   "outputs": [
    {
     "name": "stdout",
     "output_type": "stream",
     "text": [
      "1\n"
     ]
    },
    {
     "data": {
      "text/plain": [
       "0.6666666666666666"
      ]
     },
     "execution_count": 77,
     "metadata": {},
     "output_type": "execute_result"
    }
   ],
   "source": [
    "simple_matching(data[0], data[1])"
   ]
  },
  {
   "cell_type": "code",
   "execution_count": 97,
   "id": "3acd754d-547a-4427-adda-22819cf31952",
   "metadata": {},
   "outputs": [
    {
     "data": {
      "text/plain": [
       "['color_1-black',\n",
       " 'color_1-golden',\n",
       " 'color_2-red',\n",
       " 'color_3-brown',\n",
       " 'color_3-black']"
      ]
     },
     "execution_count": 97,
     "metadata": {},
     "output_type": "execute_result"
    }
   ],
   "source": [
    "one_hot_encoding(data[0], data[1])"
   ]
  },
  {
   "cell_type": "code",
   "execution_count": null,
   "id": "6727764e-d569-4791-93c4-765208b6d058",
   "metadata": {},
   "outputs": [],
   "source": []
  }
 ],
 "metadata": {
  "kernelspec": {
   "display_name": "Python 3 (ipykernel)",
   "language": "python",
   "name": "python3"
  },
  "language_info": {
   "codemirror_mode": {
    "name": "ipython",
    "version": 3
   },
   "file_extension": ".py",
   "mimetype": "text/x-python",
   "name": "python",
   "nbconvert_exporter": "python",
   "pygments_lexer": "ipython3",
   "version": "3.10.8"
  }
 },
 "nbformat": 4,
 "nbformat_minor": 5
}
