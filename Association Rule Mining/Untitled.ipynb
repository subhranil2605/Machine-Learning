{
 "cells": [
  {
   "cell_type": "code",
   "execution_count": 23,
   "id": "553cbd1c-3914-44cf-83dd-cefb01152b19",
   "metadata": {},
   "outputs": [],
   "source": [
    "import numpy as np\n",
    "from itertools import chain, combinations"
   ]
  },
  {
   "cell_type": "code",
   "execution_count": 2,
   "id": "c8d68748-54dd-42be-b1b0-4d5858725017",
   "metadata": {},
   "outputs": [],
   "source": [
    "data = [\n",
    "    [\"Beef\", \"Chicken\", \"Milk\"],\n",
    "    [\"Beef\", \"Cheese\"],\n",
    "    [\"Cheese\", \"Boots\"],\n",
    "    [\"Beef\", \"Chicken\", \"Cheese\"],\n",
    "    [\"Beef\", \"Chicken\", \"Clothes\", \"Cheese\", \"Milk\"],\n",
    "    [\"Chicken\", \"Clothes\", \"Milk\"],\n",
    "    [\"Chicken\", \"Milk\", \"Clothes\"]\n",
    "]"
   ]
  },
  {
   "cell_type": "code",
   "execution_count": 3,
   "id": "c927745f-add8-4453-846e-e9ab7c184a80",
   "metadata": {},
   "outputs": [
    {
     "name": "stdout",
     "output_type": "stream",
     "text": [
      "{'Clothes', 'Cheese', 'Beef', 'Boots', 'Chicken', 'Milk'}\n"
     ]
    }
   ],
   "source": [
    "# unique_items = set(list(chain(*data)))\n",
    "unique_items = set([item for sublist in data for item in sublist])\n",
    "print(unique_items)"
   ]
  },
  {
   "cell_type": "code",
   "execution_count": 29,
   "id": "05263592-a2d4-463d-a780-79be219b62d8",
   "metadata": {},
   "outputs": [
    {
     "data": {
      "text/plain": [
       "array([[0, 0, 1, 0, 1, 1],\n",
       "       [0, 1, 1, 0, 0, 0],\n",
       "       [0, 1, 0, 1, 0, 0],\n",
       "       [0, 1, 1, 0, 1, 0],\n",
       "       [1, 1, 1, 0, 1, 1],\n",
       "       [1, 0, 0, 0, 1, 1],\n",
       "       [1, 0, 0, 0, 1, 1]])"
      ]
     },
     "execution_count": 29,
     "metadata": {},
     "output_type": "execute_result"
    }
   ],
   "source": [
    "def get_count(unique_items, data):\n",
    "    return np.array([[1 if u_item in item else 0 for u_item in unique_items] for item in data])\n",
    "\n",
    "matrix = get_count(unique_items, data)\n",
    "matrix"
   ]
  },
  {
   "cell_type": "markdown",
   "id": "ce3db193-d6e1-4ec1-ad1a-8d8bc793ebe4",
   "metadata": {},
   "source": [
    "## Support"
   ]
  },
  {
   "cell_type": "code",
   "execution_count": 30,
   "id": "88872a52-5eab-4270-acf7-b70f489d7a56",
   "metadata": {},
   "outputs": [
    {
     "data": {
      "text/plain": [
       "array([3, 4, 4, 1, 5, 4])"
      ]
     },
     "execution_count": 30,
     "metadata": {},
     "output_type": "execute_result"
    }
   ],
   "source": [
    "a = np.apply_along_axis(np.sum, 0, matrix)\n",
    "a"
   ]
  },
  {
   "cell_type": "code",
   "execution_count": 31,
   "id": "c4afa833-b72f-4c44-9f48-90049ae217f0",
   "metadata": {},
   "outputs": [],
   "source": [
    "min_sup = 0.3"
   ]
  },
  {
   "cell_type": "code",
   "execution_count": 32,
   "id": "22e49917-3b89-48cf-9e3d-edbe8efe61ab",
   "metadata": {},
   "outputs": [
    {
     "data": {
      "text/plain": [
       "{'Clothes': 0.42857142857142855,\n",
       " 'Cheese': 0.5714285714285714,\n",
       " 'Beef': 0.5714285714285714,\n",
       " 'Boots': 0.14285714285714285,\n",
       " 'Chicken': 0.7142857142857143,\n",
       " 'Milk': 0.5714285714285714}"
      ]
     },
     "execution_count": 32,
     "metadata": {},
     "output_type": "execute_result"
    }
   ],
   "source": [
    "c_1 = {key: value / matrix.shape[0] for key, value in zip(unique_items, a)}\n",
    "c_1"
   ]
  },
  {
   "cell_type": "code",
   "execution_count": 33,
   "id": "d702dbe1-5f7e-47ae-9852-1f6bf68d2e28",
   "metadata": {},
   "outputs": [
    {
     "data": {
      "text/plain": [
       "['Boots']"
      ]
     },
     "execution_count": 33,
     "metadata": {},
     "output_type": "execute_result"
    }
   ],
   "source": [
    "values_delete = [key for key, value in c_1.items() if value < min_sup]\n",
    "values_delete"
   ]
  },
  {
   "cell_type": "code",
   "execution_count": 34,
   "id": "9fd59ab8-c67a-476e-9d97-8d712f7490b7",
   "metadata": {},
   "outputs": [],
   "source": [
    "for val in values_delete:\n",
    "    del c_1[val]"
   ]
  },
  {
   "cell_type": "code",
   "execution_count": 64,
   "id": "5fbf43e0-0737-4e21-b7f0-cca19b471d6e",
   "metadata": {},
   "outputs": [
    {
     "data": {
      "text/plain": [
       "{'Clothes': 0.42857142857142855,\n",
       " 'Cheese': 0.5714285714285714,\n",
       " 'Beef': 0.5714285714285714,\n",
       " 'Chicken': 0.7142857142857143,\n",
       " 'Milk': 0.5714285714285714}"
      ]
     },
     "execution_count": 64,
     "metadata": {},
     "output_type": "execute_result"
    }
   ],
   "source": [
    "c_1"
   ]
  },
  {
   "cell_type": "code",
   "execution_count": 55,
   "id": "68a7ebc7-099a-49a1-bffa-9996c3758ba6",
   "metadata": {},
   "outputs": [
    {
     "data": {
      "text/plain": [
       "[('Clothes', 'Cheese'),\n",
       " ('Clothes', 'Beef'),\n",
       " ('Clothes', 'Chicken'),\n",
       " ('Clothes', 'Milk'),\n",
       " ('Cheese', 'Beef'),\n",
       " ('Cheese', 'Chicken'),\n",
       " ('Cheese', 'Milk'),\n",
       " ('Beef', 'Chicken'),\n",
       " ('Beef', 'Milk'),\n",
       " ('Chicken', 'Milk')]"
      ]
     },
     "execution_count": 55,
     "metadata": {},
     "output_type": "execute_result"
    }
   ],
   "source": [
    "# making power set\n",
    "list(combinations(c_1.keys(), 2))"
   ]
  },
  {
   "cell_type": "code",
   "execution_count": 61,
   "id": "651cfa54-d3b2-43ef-beb6-f887474627a4",
   "metadata": {},
   "outputs": [
    {
     "data": {
      "text/plain": [
       "{('Clothes', 'Cheese'): 0.14285714285714285,\n",
       " ('Clothes', 'Beef'): 0.14285714285714285,\n",
       " ('Clothes', 'Chicken'): 0.42857142857142855,\n",
       " ('Clothes', 'Milk'): 0.42857142857142855,\n",
       " ('Cheese', 'Beef'): 0.42857142857142855,\n",
       " ('Cheese', 'Chicken'): 0.2857142857142857,\n",
       " ('Cheese', 'Milk'): 0.14285714285714285,\n",
       " ('Beef', 'Chicken'): 0.42857142857142855,\n",
       " ('Beef', 'Milk'): 0.2857142857142857,\n",
       " ('Chicken', 'Milk'): 0.5714285714285714}"
      ]
     },
     "execution_count": 61,
     "metadata": {},
     "output_type": "execute_result"
    }
   ],
   "source": [
    "c_2 = dict()\n",
    "for i in combinations(c_1.keys(), 2):\n",
    "    count = 0\n",
    "    for j in data:\n",
    "        if set(i) <= set(j):\n",
    "            count += 1\n",
    "    c_2[i] = count / matrix.shape[0]\n",
    "    \n",
    "c_2"
   ]
  },
  {
   "cell_type": "code",
   "execution_count": 62,
   "id": "8470980f-e642-404f-954b-07dcfacaeea1",
   "metadata": {},
   "outputs": [
    {
     "data": {
      "text/plain": [
       "[('Clothes', 'Cheese'),\n",
       " ('Clothes', 'Beef'),\n",
       " ('Cheese', 'Chicken'),\n",
       " ('Cheese', 'Milk'),\n",
       " ('Beef', 'Milk')]"
      ]
     },
     "execution_count": 62,
     "metadata": {},
     "output_type": "execute_result"
    }
   ],
   "source": [
    "values_delete = [key for key, value in c_2.items() if value < min_sup]\n",
    "values_delete"
   ]
  },
  {
   "cell_type": "code",
   "execution_count": 63,
   "id": "3cba32be-3b1e-476d-88a5-ceff223ff191",
   "metadata": {},
   "outputs": [
    {
     "data": {
      "text/plain": [
       "{('Clothes', 'Chicken'): 0.42857142857142855,\n",
       " ('Clothes', 'Milk'): 0.42857142857142855,\n",
       " ('Cheese', 'Beef'): 0.42857142857142855,\n",
       " ('Beef', 'Chicken'): 0.42857142857142855,\n",
       " ('Chicken', 'Milk'): 0.5714285714285714}"
      ]
     },
     "execution_count": 63,
     "metadata": {},
     "output_type": "execute_result"
    }
   ],
   "source": [
    "for val in values_delete:\n",
    "    del c_2[val]\n",
    "    \n",
    "c_2"
   ]
  },
  {
   "cell_type": "code",
   "execution_count": 68,
   "id": "82973a45-bc90-4a3c-a7f1-06c07c394aad",
   "metadata": {},
   "outputs": [
    {
     "name": "stdout",
     "output_type": "stream",
     "text": [
      "('Clothes', 'Chicken')\n",
      "('Clothes', 'Milk')\n",
      "('Cheese', 'Beef')\n",
      "('Beef', 'Chicken')\n",
      "('Chicken', 'Milk')\n"
     ]
    }
   ],
   "source": [
    "for i in c_2.keys():\n",
    "    print(i)"
   ]
  },
  {
   "cell_type": "code",
   "execution_count": null,
   "id": "234c4c23-bede-48f6-b42e-5933fbcd8901",
   "metadata": {},
   "outputs": [],
   "source": []
  }
 ],
 "metadata": {
  "kernelspec": {
   "display_name": "Python 3 (ipykernel)",
   "language": "python",
   "name": "python3"
  },
  "language_info": {
   "codemirror_mode": {
    "name": "ipython",
    "version": 3
   },
   "file_extension": ".py",
   "mimetype": "text/x-python",
   "name": "python",
   "nbconvert_exporter": "python",
   "pygments_lexer": "ipython3",
   "version": "3.10.8"
  }
 },
 "nbformat": 4,
 "nbformat_minor": 5
}
