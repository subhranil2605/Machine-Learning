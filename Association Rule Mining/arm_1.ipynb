{
 "cells": [
  {
   "cell_type": "markdown",
   "id": "359c50da-711b-4f88-8b90-5f27c77fa0c9",
   "metadata": {},
   "source": [
    "## Transaction data: a set of documents\n",
    "A text document dataset. Each document is treated as a \"bag\" of keywords "
   ]
  },
  {
   "cell_type": "code",
   "execution_count": 6,
   "id": "a0ddfd50-eac6-4c9d-b635-53a3ae0f0536",
   "metadata": {},
   "outputs": [],
   "source": [
    "dataset = {\n",
    "    \"doc1\": [\"student\", \"teach\", \"school\"],\n",
    "    \"doc2\": [\"student\", \"school\"],\n",
    "    \"doc3\": [\"teach\", \"school\", \"city\", \"game\"],\n",
    "    \"doc4\": [\"baseball\", \"basketball\"],\n",
    "    \"doc5\": [\"basketball\", \"palyer\", \"spectator\"],\n",
    "    \"doc6\": [\"baseball\", \"coach\", \"game\", \"team\"],\n",
    "    \"doc7\": [\"basketball\", \"team\", \"city\", \"game\"]\n",
    "}"
   ]
  },
  {
   "cell_type": "code",
   "execution_count": null,
   "id": "f01835c7-74bc-46d9-a76d-365b805f0889",
   "metadata": {},
   "outputs": [],
   "source": []
  }
 ],
 "metadata": {
  "kernelspec": {
   "display_name": "Python 3 (ipykernel)",
   "language": "python",
   "name": "python3"
  },
  "language_info": {
   "codemirror_mode": {
    "name": "ipython",
    "version": 3
   },
   "file_extension": ".py",
   "mimetype": "text/x-python",
   "name": "python",
   "nbconvert_exporter": "python",
   "pygments_lexer": "ipython3",
   "version": "3.10.8"
  }
 },
 "nbformat": 4,
 "nbformat_minor": 5
}
