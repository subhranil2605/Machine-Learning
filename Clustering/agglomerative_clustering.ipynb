{
 "cells": [
  {
   "cell_type": "markdown",
   "id": "d63d07a6-808b-426a-a3dc-7529945e3abc",
   "metadata": {},
   "source": [
    "# Agglomerative Clustering"
   ]
  },
  {
   "cell_type": "code",
   "execution_count": 390,
   "id": "3c422255-11ce-4836-bc8e-457d121b87ce",
   "metadata": {},
   "outputs": [],
   "source": [
    "import numpy as np\n",
    "from sklearn.datasets import make_blobs\n",
    "import matplotlib.pyplot as plt\n",
    "import pandas as pd\n",
    "from tqdm import tqdm"
   ]
  },
  {
   "cell_type": "code",
   "execution_count": 502,
   "id": "8433d6c9-bc5b-40fe-8538-2c47cf142fd5",
   "metadata": {},
   "outputs": [
    {
     "data": {
      "image/png": "[encoded data removed]",
      "text/plain": [
       "<Figure size 640x480 with 1 Axes>"
      ]
     },
     "metadata": {},
     "output_type": "display_data"
    }
   ],
   "source": [
    "data, labels = make_blobs(n_samples=50, n_features=2, centers=5, random_state=40)\n",
    "\n",
    "plt.scatter(data[:, 0], data[:, 1], c=labels)\n",
    "plt.show()"
   ]
  },
  {
   "cell_type": "markdown",
   "id": "f1969168-6591-424c-a39c-69e9f4668524",
   "metadata": {},
   "source": [
    "## Point"
   ]
  },
  {
   "cell_type": "code",
   "execution_count": 492,
   "id": "5f130a13-d667-4bc9-9dac-bb486f3e1075",
   "metadata": {},
   "outputs": [],
   "source": [
    "def flatten(lst):\n",
    "    \"\"\"\n",
    "    Returns a flattened version of the input list.\n",
    "    \"\"\"\n",
    "    if not isinstance(lst, list):\n",
    "        return [lst]\n",
    "    \n",
    "    flattened_lst = []\n",
    "    for item in lst:\n",
    "        if isinstance(item, list):\n",
    "            flattened_lst.extend(flatten(item))\n",
    "        else:\n",
    "            flattened_lst.append(item)\n",
    "    return flattened_lst"
   ]
  },
  {
   "cell_type": "code",
   "execution_count": 115,
   "id": "1b61c899-be2a-4bd6-b961-2c804c04dfe4",
   "metadata": {},
   "outputs": [],
   "source": [
    "class Point:\n",
    "    \"\"\" Class for a Point \"\"\"\n",
    "    \n",
    "    def __init__(self, x, y):\n",
    "        self.x = x\n",
    "        self.y = y\n",
    "        \n",
    "    def to_array(self):\n",
    "        \"\"\" returns an array of the coordinates \"\"\"\n",
    "        return np.array([self.x, self.y])\n",
    "    \n",
    "    def dist(self, other):\n",
    "        return np.linalg.norm(self.to_array() - other.to_array())\n",
    "        \n",
    "    def __eq__(self, other):\n",
    "        \"\"\" Compares two points if they are equal \"\"\"\n",
    "        return np.allclose(self.to_array(), other.to_array())\n",
    "    \n",
    "    def __repr__(self):\n",
    "        \"\"\" returns the string of the coordinates\"\"\"\n",
    "        return f\"Point({self.x}, {self.y})\""
   ]
  },
  {
   "cell_type": "markdown",
   "id": "2d8c5081-ed49-4000-9617-7eb8a265c508",
   "metadata": {},
   "source": [
    "## Cluster"
   ]
  },
  {
   "cell_type": "code",
   "execution_count": 308,
   "id": "da28a4cd-de6d-4836-abc6-9db868fb45c5",
   "metadata": {},
   "outputs": [],
   "source": [
    "class Cluster:\n",
    "    def __init__(self, points: list[Point,...]):\n",
    "        self.points: list[Point,...] = points\n",
    "        \n",
    "    def add_point(self, point: Point):\n",
    "        if point not in self.points:\n",
    "            self.points.append(point)\n",
    "    \n",
    "    def add_points(self, points: list[Point, ...]):\n",
    "        for point in points:\n",
    "            self.add_point(point)\n",
    "        \n",
    "            \n",
    "    def avg_dist(self, other):\n",
    "        a_arr = np.array([i.to_array() for i in self.points])\n",
    "        b_arr = np.array([i.to_array() for i in other.points])\n",
    "\n",
    "        distances = np.linalg.norm(a_arr[:, np.newaxis] - b_arr, axis=2)\n",
    "\n",
    "        result = np.mean(np.mean(distances, axis=1))\n",
    "        return result\n",
    "    \n",
    "    def __repr__(self):\n",
    "        return f\"Cluster: {self.points}\""
   ]
  },
  {
   "cell_type": "code",
   "execution_count": 506,
   "id": "f9c0b04c-06aa-415c-bf1a-775304439323",
   "metadata": {},
   "outputs": [],
   "source": [
    "def fit(data):\n",
    "    # make all the points in data as Points\n",
    "    data_point: list[Point, ...] = [Point(i[0], i[1]) for i in data]\n",
    "\n",
    "    # make every point as a cluster\n",
    "    clusters = [Cluster([i]) for i in data_point]\n",
    "    all_clusters = list(range(len(clusters)))\n",
    "    a_c = []\n",
    "\n",
    "    for _ in range(len(clusters) - 1):\n",
    "        l = len(clusters)\n",
    "        min_ = np.inf\n",
    "        pairs = np.zeros(2, dtype=int)\n",
    "\n",
    "        # find the minimum value's indexes\n",
    "        for i in range(l):\n",
    "            for j in range(i + 1 , l):\n",
    "                d = clusters[i].avg_dist(clusters[j])\n",
    "                if d < min_:\n",
    "                    min_ = d\n",
    "                    pairs[0], pairs[1] = i, j\n",
    "\n",
    "\n",
    "        i, j = pairs\n",
    "\n",
    "        # merge the pairs\n",
    "        clusters[i].add_points(clusters[j].points)\n",
    "        all_clusters[i] = [all_clusters[i], all_clusters[j]]\n",
    "\n",
    "\n",
    "        # delete the next\n",
    "        clusters.pop(j)\n",
    "        all_clusters.pop(j)\n",
    "\n",
    "        a_c.append(all_clusters[:])\n",
    "        \n",
    "    return a_c"
   ]
  },
  {
   "cell_type": "code",
   "execution_count": 507,
   "id": "b3e42664-db68-48a0-9be2-f421673c3745",
   "metadata": {},
   "outputs": [],
   "source": [
    "result = fit(data)"
   ]
  },
  {
   "cell_type": "markdown",
   "id": "c7e5be93-6d9d-452b-bbeb-f2ee24e6c8b6",
   "metadata": {},
   "source": [
    "### if I want 2 clusters:\n",
    "```python\n",
    "k = 2\n",
    "a, b = a_c[-k]\n",
    "```"
   ]
  },
  {
   "cell_type": "code",
   "execution_count": 513,
   "id": "65924756-5002-4461-8c8f-b8948935dec3",
   "metadata": {},
   "outputs": [
    {
     "data": {
      "text/plain": [
       "array([ 0,  1,  2,  3,  4,  5,  6,  7,  8,  9, 10, 11, 12, 13, 14,  0, 15,\n",
       "       16, 17, 18, 19, 20, 21, 22, 23, 24, 25, 26, 27, 28, 29, 30, 31, 32,\n",
       "       33, 34, 35, 36, 37, 38, 39, 40, 41, 42, 43, 44, 45, 46, 47, 48])"
      ]
     },
     "execution_count": 513,
     "metadata": {},
     "output_type": "execute_result"
    }
   ],
   "source": [
    "# number of clusters required\n",
    "k = 49\n",
    "\n",
    "# getting the solution\n",
    "new_label = [0] * len(labels)\n",
    "for i in range(len(data)):\n",
    "    for j in range(k):\n",
    "        if i in flatten(result[-k][j]):\n",
    "            new_label[i] = j\n",
    "            \n",
    "new_label = np.array(new_label)\n",
    "new_label"
   ]
  },
  {
   "cell_type": "code",
   "execution_count": 514,
   "id": "a0412d70-9a57-4e9c-899d-9e1906944d18",
   "metadata": {},
   "outputs": [
    {
     "data": {
      "image/png": "[encoded data removed]",
      "text/plain": [
       "<Figure size 640x480 with 2 Axes>"
      ]
     },
     "metadata": {},
     "output_type": "display_data"
    }
   ],
   "source": [
    "plt.subplot(1, 2, 1)\n",
    "plt.scatter(data[:, 0], data[:, 1], c=labels)\n",
    "plt.title(f\"Actual\")\n",
    "\n",
    "plt.subplot(1, 2, 2)\n",
    "plt.scatter(data[:, 0], data[:, 1], c=new_label)\n",
    "plt.title(f\"Agglomerative Clustering using $k={k}$\")\n",
    "\n",
    "plt.show()"
   ]
  },
  {
   "cell_type": "code",
   "execution_count": 469,
   "id": "0fa72d82-78bd-4c5d-904e-3923776a466b",
   "metadata": {},
   "outputs": [],
   "source": [
    "from sklearn.metrics.cluster import rand_score"
   ]
  },
  {
   "cell_type": "code",
   "execution_count": 515,
   "id": "a17abab2-1197-4805-b795-52f9963cfea1",
   "metadata": {},
   "outputs": [
    {
     "data": {
      "text/plain": [
       "0.8171428571428572"
      ]
     },
     "execution_count": 515,
     "metadata": {},
     "output_type": "execute_result"
    }
   ],
   "source": [
    "rand_score(labels, new_label)"
   ]
  },
  {
   "cell_type": "code",
   "execution_count": null,
   "id": "fe7d4fd9-fef2-4bf1-9065-1859f636957c",
   "metadata": {},
   "outputs": [],
   "source": []
  },
  {
   "cell_type": "markdown",
   "id": "45563707-abb2-41f8-a5af-9d1b0e02c365",
   "metadata": {},
   "source": [
    "---"
   ]
  },
  {
   "cell_type": "code",
   "execution_count": 219,
   "id": "c0a8e60e-8e43-49eb-9735-06f12223ac7c",
   "metadata": {},
   "outputs": [
    {
     "data": {
      "text/plain": [
       "55.0"
      ]
     },
     "execution_count": 219,
     "metadata": {},
     "output_type": "execute_result"
    }
   ],
   "source": [
    "# logic for average linkage\n",
    "\n",
    "a = [Point(12, 2)]\n",
    "b = [Point(45, 46)]\n",
    "\n",
    "ddd = 0\n",
    "for i in a:\n",
    "    dd = 0\n",
    "    for j in b:\n",
    "        d = i.dist(j)\n",
    "        dd += d\n",
    "    dd /= len(b)\n",
    "    ddd += dd\n",
    "    \n",
    "ddd /= len(a)\n",
    "\n",
    "ddd"
   ]
  },
  {
   "cell_type": "code",
   "execution_count": 220,
   "id": "b300a70c-bc1d-48b2-86dd-413131bb8aff",
   "metadata": {},
   "outputs": [
    {
     "data": {
      "text/plain": [
       "55.0"
      ]
     },
     "execution_count": 220,
     "metadata": {},
     "output_type": "execute_result"
    }
   ],
   "source": [
    "# optimized with numpy\n",
    "\n",
    "a_arr = np.array([i.to_array() for i in a])\n",
    "b_arr = np.array([i.to_array() for i in b])\n",
    "\n",
    "distances = np.linalg.norm(a_arr[:, np.newaxis] - b_arr, axis=2)\n",
    "\n",
    "result = np.mean(np.mean(distances, axis=1))\n",
    "result"
   ]
  },
  {
   "cell_type": "code",
   "execution_count": null,
   "id": "cb35e13d-845f-42e5-89e4-522f2ab4dadb",
   "metadata": {},
   "outputs": [],
   "source": []
  }
 ],
 "metadata": {
  "kernelspec": {
   "display_name": "Python 3 (ipykernel)",
   "language": "python",
   "name": "python3"
  },
  "language_info": {
   "codemirror_mode": {
    "name": "ipython",
    "version": 3
   },
   "file_extension": ".py",
   "mimetype": "text/x-python",
   "name": "python",
   "nbconvert_exporter": "python",
   "pygments_lexer": "ipython3",
   "version": "3.10.8"
  }
 },
 "nbformat": 4,
 "nbformat_minor": 5
}
