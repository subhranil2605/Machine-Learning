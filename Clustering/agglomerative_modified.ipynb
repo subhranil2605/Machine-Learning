{
 "cells": [
  {
   "cell_type": "code",
   "execution_count": 12,
   "id": "86caa2a1-c817-4e2c-a9bf-350c7311be76",
   "metadata": {},
   "outputs": [],
   "source": [
    "import numpy as np\n",
    "from sklearn.datasets import make_blobs\n",
    "import matplotlib.pyplot as plt\n",
    "import pandas as pd"
   ]
  },
  {
   "cell_type": "code",
   "execution_count": 10,
   "id": "295260fc-9ad8-4a39-9d06-cd97aff60431",
   "metadata": {},
   "outputs": [
    {
     "data": {
      "image/png": "[encoded data removed]",
      "text/plain": [
       "<Figure size 640x480 with 1 Axes>"
      ]
     },
     "metadata": {},
     "output_type": "display_data"
    }
   ],
   "source": [
    "X, labels = make_blobs(n_samples=10, n_features=2, centers=5, random_state=40)\n",
    "\n",
    "plt.scatter(X[:, 0], X[:, 1], c=labels)\n",
    "plt.show()"
   ]
  },
  {
   "cell_type": "code",
   "execution_count": 5,
   "id": "95166562-df9a-471d-aa69-4503c680b891",
   "metadata": {},
   "outputs": [],
   "source": [
    "class AgglomerativeClustering:\n",
    "    def __init__(self, linkage='single'):\n",
    "        self.linkage = linkage\n",
    "    \n",
    "    def fit(self, X):\n",
    "        n_samples = X.shape[0]\n",
    "        self.labels_ = np.arange(n_samples)\n",
    "        self.n_clusters_ = n_samples\n",
    "        \n",
    "        distances = self._calc_distances(X)\n",
    "        \n",
    "        while self.n_clusters_ > 1:\n",
    "            # Find the indices of the nearest two clusters\n",
    "            i, j = self._find_nearest(distances)\n",
    "            \n",
    "            # Merge the nearest two clusters\n",
    "            self._merge_clusters(i, j)\n",
    "            self.n_clusters_ -= 1\n",
    "            \n",
    "            # Update the distance matrix\n",
    "            distances = self._update_distances(distances, i, j)\n",
    "    \n",
    "    def _calc_distances(self, X):\n",
    "        # Calculate the pairwise distances between samples\n",
    "        distances = np.zeros((X.shape[0], X.shape[0]))\n",
    "        for i in range(X.shape[0]):\n",
    "            for j in range(i+1, X.shape[0]):\n",
    "                distances[i,j] = np.linalg.norm(X[i] - X[j])\n",
    "        return distances\n",
    "    \n",
    "    def _find_nearest(self, distances):\n",
    "        # Find the indices of the nearest two clusters\n",
    "        if self.linkage == 'single':\n",
    "            i, j = np.unravel_index(np.argmin(distances), distances.shape)\n",
    "        elif self.linkage == 'complete':\n",
    "            i, j = np.unravel_index(np.argmax(distances), distances.shape)\n",
    "        else:\n",
    "            i, j = np.unravel_index(np.argmin(distances), distances.shape)\n",
    "        return i, j\n",
    "    \n",
    "    def _merge_clusters(self, i, j):\n",
    "        # Merge the nearest two clusters\n",
    "        mask = (self.labels_ == self.labels_[j])\n",
    "        self.labels_[mask] = self.labels_[i]\n",
    "        \n",
    "    def _update_distances(self, distances, i, j):\n",
    "        # Update the distance matrix\n",
    "        if self.linkage == 'single':\n",
    "            distances[i,:] = np.minimum(distances[i,:], distances[j,:])\n",
    "            distances[:,i] = np.minimum(distances[:,i], distances[:,j])\n",
    "        elif self.linkage == 'complete':\n",
    "            distances[i,:] = np.maximum(distances[i,:], distances[j,:])\n",
    "            distances[:,i] = np.maximum(distances[:,i], distances[:,j])\n",
    "        else:\n",
    "            distances[i,:] = np.minimum(distances[i,:], distances[j,:])\n",
    "            distances[:,i] = np.minimum(distances[:,i], distances[:,j])\n",
    "        distances = np.delete(distances, j, axis=0)\n",
    "        distances = np.delete(distances, j, axis=1)\n",
    "        return distances"
   ]
  },
  {
   "cell_type": "code",
   "execution_count": 72,
   "id": "c8c8f95c-89a3-4d03-976c-9bc4cc358255",
   "metadata": {},
   "outputs": [],
   "source": [
    "n_samples = X.shape[0]\n",
    "labels = np.arange(n_samples)\n",
    "n_clusters = n_samples"
   ]
  },
  {
   "cell_type": "code",
   "execution_count": 68,
   "id": "9ea06e9b-6c28-4b27-8dea-29269f23c9f0",
   "metadata": {
    "tags": []
   },
   "outputs": [
    {
     "name": "stdout",
     "output_type": "stream",
     "text": [
      "8 9\n"
     ]
    }
   ],
   "source": [
    "# find the closets pairs\n",
    "diff = X[:, np.newaxis, :] - X[np.newaxis, :, :]\n",
    "\n",
    "distance_matrix = np.linalg.norm(diff, axis=2)\n",
    "\n",
    "u_t = np.triu(distance_matrix)\n",
    "\n",
    "# to find the minimum values\n",
    "u_t[np.where(u_t == 0)] = np.inf\n",
    "\n",
    "i, j = np.unravel_index(np.argmin(u_t), u_t.shape)\n",
    "\n",
    "print(i, j)"
   ]
  },
  {
   "cell_type": "code",
   "execution_count": 75,
   "id": "ec3db1d8-763c-4bf5-9419-d4c9a6545c4c",
   "metadata": {},
   "outputs": [
    {
     "data": {
      "text/plain": [
       "array([False, False, False, False, False, False, False, False, False,\n",
       "        True])"
      ]
     },
     "execution_count": 75,
     "metadata": {},
     "output_type": "execute_result"
    }
   ],
   "source": [
    "# merge them\n",
    "mask = (labels == labels[j])\n",
    "mask"
   ]
  },
  {
   "cell_type": "code",
   "execution_count": 77,
   "id": "7ddecc1f-ec10-439d-9a58-99e4750896a2",
   "metadata": {},
   "outputs": [],
   "source": [
    "labels[mask] = labels[i]"
   ]
  },
  {
   "cell_type": "code",
   "execution_count": 78,
   "id": "f7cf8c33-ee51-45e3-ba5f-720cf41652ea",
   "metadata": {},
   "outputs": [
    {
     "data": {
      "text/plain": [
       "array([0, 1, 2, 3, 4, 5, 6, 7, 8, 8])"
      ]
     },
     "execution_count": 78,
     "metadata": {},
     "output_type": "execute_result"
    }
   ],
   "source": [
    "labels"
   ]
  },
  {
   "cell_type": "code",
   "execution_count": null,
   "id": "123d2cb7-aacf-45af-8493-2a27e253fd10",
   "metadata": {},
   "outputs": [],
   "source": [
    "# update the distance matrix\n"
   ]
  }
 ],
 "metadata": {
  "kernelspec": {
   "display_name": "Python 3 (ipykernel)",
   "language": "python",
   "name": "python3"
  },
  "language_info": {
   "codemirror_mode": {
    "name": "ipython",
    "version": 3
   },
   "file_extension": ".py",
   "mimetype": "text/x-python",
   "name": "python",
   "nbconvert_exporter": "python",
   "pygments_lexer": "ipython3",
   "version": "3.10.8"
  }
 },
 "nbformat": 4,
 "nbformat_minor": 5
}
