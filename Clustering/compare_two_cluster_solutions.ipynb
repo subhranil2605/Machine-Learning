{
 "cells": [
  {
   "cell_type": "code",
   "execution_count": 67,
   "id": "1f159854-b5d8-496d-b378-f1d516325ba3",
   "metadata": {},
   "outputs": [],
   "source": [
    "import numpy as np\n",
    "from numpy import ndarray"
   ]
  },
  {
   "cell_type": "code",
   "execution_count": 97,
   "id": "cc2d03e0-a7a4-47d1-b6db-df0882063dcb",
   "metadata": {},
   "outputs": [],
   "source": [
    "first_solution = np.array([1, 1, 2, 2, 3, 3])\n",
    "second_solution = np.array([3, 3, 2, 2, 2, 1])"
   ]
  },
  {
   "cell_type": "markdown",
   "id": "18e88c7a-2853-4b8a-b9db-ea3bb753076a",
   "metadata": {},
   "source": [
    "## 1. Using Relabeling the Solution"
   ]
  },
  {
   "cell_type": "code",
   "execution_count": 38,
   "id": "86f01830-10cd-4311-ab8f-73873c72dfbb",
   "metadata": {},
   "outputs": [],
   "source": [
    "def get_mode(arr: ndarray):\n",
    "    \"\"\" Calculate the mode of the array \"\"\"\n",
    "    \n",
    "    values, counts = np.unique(arr, return_counts=True)\n",
    "    mode = values[np.argmax(counts)]\n",
    "    return mode"
   ]
  },
  {
   "cell_type": "code",
   "execution_count": 44,
   "id": "14e05f13-cbfa-4783-b55f-43649b91f9b1",
   "metadata": {},
   "outputs": [],
   "source": [
    "def calculate_similarity(arr_1: ndarray, arr_2: ndarray):\n",
    "    \"\"\" Compares two clustering solutions \"\"\"\n",
    "    \n",
    "    assert len(arr_1) == len(arr_2), \"Arrays should be of same size\"\n",
    "    \n",
    "    match_count = np.sum(first_solution == new_sol)\n",
    "    return match_count / len(arr_1)"
   ]
  },
  {
   "cell_type": "code",
   "execution_count": 36,
   "id": "8ff958fa-dce3-42fa-a813-28aee50c40a9",
   "metadata": {},
   "outputs": [],
   "source": [
    "def relabel_solution(ref_arr: ndarray, arr: ndarray) -> ndarray:\n",
    "    \n",
    "    # new solution with the same shape of the arr\n",
    "    new_solution: ndarray = np.zeros_like(arr)\n",
    "    \n",
    "    for label in np.unique(arr): # unique values from the arr\n",
    "        \n",
    "        # get the indices where the values i is in arr\n",
    "        indices = np.where(arr == label)\n",
    "        \n",
    "        # get the mode of the referece array, from the indices of the value i\n",
    "        new_label = get_mode(ref_arr[indices]) \n",
    "        \n",
    "        # update the new solution\n",
    "        new_solution[indices] = new_label\n",
    "    \n",
    "    return new_solution"
   ]
  },
  {
   "cell_type": "code",
   "execution_count": 39,
   "id": "03eda9cc-b3e8-4805-9a2a-936ce8fe6c52",
   "metadata": {},
   "outputs": [
    {
     "data": {
      "text/plain": [
       "array([1, 1, 2, 2, 2, 3])"
      ]
     },
     "execution_count": 39,
     "metadata": {},
     "output_type": "execute_result"
    }
   ],
   "source": [
    "new_sol = relabel_solution(first_solution, second_solution)\n",
    "new_sol"
   ]
  },
  {
   "cell_type": "code",
   "execution_count": 43,
   "id": "f043e190-8719-4a8a-96c1-a9f14ead105f",
   "metadata": {},
   "outputs": [
    {
     "data": {
      "text/plain": [
       "0.8333333333333334"
      ]
     },
     "execution_count": 43,
     "metadata": {},
     "output_type": "execute_result"
    }
   ],
   "source": [
    "calculate_similarity(first_solution, new_sol)"
   ]
  },
  {
   "cell_type": "markdown",
   "id": "43ceba0c-b441-4ea3-9d50-1374b477cad0",
   "metadata": {},
   "source": [
    "---\n",
    "## 2. Using `Rand Index`"
   ]
  },
  {
   "cell_type": "code",
   "execution_count": 131,
   "id": "808574fe-b639-463b-9b72-ced6ffcdf060",
   "metadata": {},
   "outputs": [],
   "source": [
    "def get_matrix(arr: ndarray):\n",
    "    m = (arr[:, np.newaxis] == arr).astype('int')\n",
    "    np.fill_diagonal(m, 0)\n",
    "    return np.triu(m)"
   ]
  },
  {
   "cell_type": "code",
   "execution_count": 132,
   "id": "1a59d3ce-0955-43dc-b541-6c6cfba4a348",
   "metadata": {},
   "outputs": [],
   "source": [
    "a = get_matrix(first_solution)\n",
    "b = get_matrix(second_solution)"
   ]
  },
  {
   "cell_type": "code",
   "execution_count": 133,
   "id": "5b6ed49d-f9ab-4695-a5c5-c3a4df4ed4a3",
   "metadata": {},
   "outputs": [
    {
     "data": {
      "text/plain": [
       "array([[0, 1, 0, 0, 0, 0],\n",
       "       [0, 0, 0, 0, 0, 0],\n",
       "       [0, 0, 0, 1, 0, 0],\n",
       "       [0, 0, 0, 0, 0, 0],\n",
       "       [0, 0, 0, 0, 0, 1],\n",
       "       [0, 0, 0, 0, 0, 0]])"
      ]
     },
     "execution_count": 133,
     "metadata": {},
     "output_type": "execute_result"
    }
   ],
   "source": [
    "a"
   ]
  },
  {
   "cell_type": "code",
   "execution_count": 134,
   "id": "e716bbd3-bf5f-4f86-b872-1b28848742a2",
   "metadata": {},
   "outputs": [
    {
     "data": {
      "text/plain": [
       "array([[0, 1, 0, 0, 0, 0],\n",
       "       [0, 0, 0, 0, 0, 0],\n",
       "       [0, 0, 0, 1, 1, 0],\n",
       "       [0, 0, 0, 0, 1, 0],\n",
       "       [0, 0, 0, 0, 0, 0],\n",
       "       [0, 0, 0, 0, 0, 0]])"
      ]
     },
     "execution_count": 134,
     "metadata": {},
     "output_type": "execute_result"
    }
   ],
   "source": [
    "b"
   ]
  },
  {
   "cell_type": "code",
   "execution_count": 143,
   "id": "4d83f944-27f8-4493-8159-e64d8b2648f3",
   "metadata": {},
   "outputs": [],
   "source": [
    "a_values = a[np.triu_indices_from(a, k=1)]\n",
    "b_values = b[np.triu_indices_from(b, k=1)]"
   ]
  },
  {
   "cell_type": "code",
   "execution_count": 152,
   "id": "87f1ce9d-beba-43e1-a496-8381f65eb1f4",
   "metadata": {},
   "outputs": [
    {
     "data": {
      "text/plain": [
       "2"
      ]
     },
     "execution_count": 152,
     "metadata": {},
     "output_type": "execute_result"
    }
   ],
   "source": [
    "count = np.sum((a_values == 1) & (b_values == 1))\n",
    "count"
   ]
  },
  {
   "cell_type": "code",
   "execution_count": 153,
   "id": "d760e368-e970-443a-93cf-dd81ff9a972e",
   "metadata": {},
   "outputs": [
    {
     "data": {
      "text/plain": [
       "10"
      ]
     },
     "execution_count": 153,
     "metadata": {},
     "output_type": "execute_result"
    }
   ],
   "source": [
    "np.sum((a_values == 0) & (b_values == 0))"
   ]
  },
  {
   "cell_type": "code",
   "execution_count": 154,
   "id": "e02ebc7a-c6b2-439b-ae40-440996844481",
   "metadata": {},
   "outputs": [
    {
     "data": {
      "text/plain": [
       "1"
      ]
     },
     "execution_count": 154,
     "metadata": {},
     "output_type": "execute_result"
    }
   ],
   "source": [
    "np.sum((a_values == 1) & (b_values == 0))"
   ]
  },
  {
   "cell_type": "code",
   "execution_count": 157,
   "id": "bd3479fd-f99b-4edb-b260-348957272dc1",
   "metadata": {},
   "outputs": [
    {
     "data": {
      "text/plain": [
       "2"
      ]
     },
     "execution_count": 157,
     "metadata": {},
     "output_type": "execute_result"
    }
   ],
   "source": [
    "np.sum((a_values == 0) & (b_values == 1))"
   ]
  },
  {
   "cell_type": "code",
   "execution_count": 196,
   "id": "5031600d-a461-41dc-8e20-85b080d43c5f",
   "metadata": {},
   "outputs": [],
   "source": [
    "def get_confusion_matrix(sol_1: ndarray, sol_2: ndarray):\n",
    "    \"\"\"\n",
    "    | (1, 1) | (1, 0) |\n",
    "    | (1, 0) | (0, 0) | \n",
    "    \"\"\"\n",
    "    a = get_matrix(first_solution)\n",
    "    b = get_matrix(second_solution)\n",
    "    \n",
    "    a_values = a[np.triu_indices_from(a, k=1)]\n",
    "    b_values = b[np.triu_indices_from(b, k=1)]\n",
    "    \n",
    "    conf_matrix = np.zeros((2, 2), dtype=int)\n",
    "    for i in range(1, -1, -1):\n",
    "        for j in range(1, -1, -1):\n",
    "            conf_matrix[1 - i][1 - j] = np.sum((a_values == i) & (b_values == j))\n",
    "    \n",
    "    return conf_matrix"
   ]
  },
  {
   "cell_type": "code",
   "execution_count": 199,
   "id": "9c04c8fa-6e19-4601-87fc-5847fc1e6fe6",
   "metadata": {},
   "outputs": [
    {
     "data": {
      "text/plain": [
       "array([[ 2,  1],\n",
       "       [ 2, 10]])"
      ]
     },
     "execution_count": 199,
     "metadata": {},
     "output_type": "execute_result"
    }
   ],
   "source": [
    "confusion_matrix = get_confusion_matrix(first_solution, second_solution)\n",
    "confusion_matrix"
   ]
  },
  {
   "cell_type": "code",
   "execution_count": 201,
   "id": "ee861c40-d37b-4d05-bf68-528cc44cceae",
   "metadata": {},
   "outputs": [],
   "source": [
    "def rand_index(cnf_matrx):\n",
    "    return np.trace(cnf_matrx) / np.sum(cnf_matrx)"
   ]
  },
  {
   "cell_type": "code",
   "execution_count": 208,
   "id": "d80a02c0-3ea6-42b4-b1a2-27142716e6d4",
   "metadata": {},
   "outputs": [
    {
     "data": {
      "text/plain": [
       "0.8"
      ]
     },
     "execution_count": 208,
     "metadata": {},
     "output_type": "execute_result"
    }
   ],
   "source": [
    "rand_index(confusion_matrix) "
   ]
  },
  {
   "cell_type": "markdown",
   "id": "f2d052ec-6a1f-422b-b76d-946f72b6278b",
   "metadata": {},
   "source": [
    "____\n",
    "## To know if we've done everything right"
   ]
  },
  {
   "cell_type": "code",
   "execution_count": null,
   "id": "9e895a74-3cbf-4d9a-b56e-85d6e2bd09af",
   "metadata": {},
   "outputs": [],
   "source": [
    "from sklearn.metrics.cluster import rand_score"
   ]
  },
  {
   "cell_type": "code",
   "execution_count": null,
   "id": "d2db65e3-32e4-4028-99a9-6c433707c743",
   "metadata": {},
   "outputs": [
    {
     "data": {
      "text/plain": [
       "0.8"
      ]
     },
     "execution_count": 210,
     "metadata": {},
     "output_type": "execute_result"
    }
   ],
   "source": [
    "ri = rand_score(first_solution, second_solution)\n",
    "ri "
   ]
  },
  {
   "cell_type": "code",
   "execution_count": null,
   "id": "f89fbbac-31c7-484c-8c14-9be5d3c21863",
   "metadata": {},
   "outputs": [],
   "source": []
  }
 ],
 "metadata": {
  "kernelspec": {
   "display_name": "Python 3 (ipykernel)",
   "language": "python",
   "name": "python3"
  },
  "language_info": {
   "codemirror_mode": {
    "name": "ipython",
    "version": 3
   },
   "file_extension": ".py",
   "mimetype": "text/x-python",
   "name": "python",
   "nbconvert_exporter": "python",
   "pygments_lexer": "ipython3",
   "version": "3.10.8"
  }
 },
 "nbformat": 4,
 "nbformat_minor": 5
}
